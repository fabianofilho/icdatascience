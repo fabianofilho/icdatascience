{
  "nbformat": 4,
  "nbformat_minor": 0,
  "metadata": {
    "colab": {
      "name": "mars-DATASUS.ipynb",
      "version": "0.3.2",
      "provenance": []
    },
    "kernelspec": {
      "name": "python3",
      "display_name": "Python 3"
    }
  },
  "cells": [
    {
      "metadata": {
        "id": "UpodCsjKnRin",
        "colab_type": "text"
      },
      "cell_type": "markdown",
      "source": [
        "# MARS"
      ]
    },
    {
      "metadata": {
        "id": "R2hhMj5xvHRm",
        "colab_type": "code",
        "outputId": "96a56109-d10e-4b38-9b21-1a3f37a82b8c",
        "colab": {
          "base_uri": "https://localhost:8080/",
          "height": 374
        }
      },
      "cell_type": "code",
      "source": [
        "!pip install scikit-learn\n",
        "from sklearn import pyearth"
      ],
      "execution_count": 0,
      "outputs": [
        {
          "output_type": "stream",
          "text": [
            "Requirement already satisfied: scikit-learn in /usr/local/lib/python3.6/dist-packages (0.20.3)\n",
            "Requirement already satisfied: numpy>=1.8.2 in /usr/local/lib/python3.6/dist-packages (from scikit-learn) (1.16.2)\n",
            "Requirement already satisfied: scipy>=0.13.3 in /usr/local/lib/python3.6/dist-packages (from scikit-learn) (1.2.1)\n"
          ],
          "name": "stdout"
        },
        {
          "output_type": "error",
          "ename": "ImportError",
          "evalue": "ignored",
          "traceback": [
            "\u001b[0;31m---------------------------------------------------------------------------\u001b[0m",
            "\u001b[0;31mImportError\u001b[0m                               Traceback (most recent call last)",
            "\u001b[0;32m<ipython-input-7-793a6523da36>\u001b[0m in \u001b[0;36m<module>\u001b[0;34m()\u001b[0m\n\u001b[1;32m      1\u001b[0m \u001b[0mget_ipython\u001b[0m\u001b[0;34m(\u001b[0m\u001b[0;34m)\u001b[0m\u001b[0;34m.\u001b[0m\u001b[0msystem\u001b[0m\u001b[0;34m(\u001b[0m\u001b[0;34m'pip install scikit-learn'\u001b[0m\u001b[0;34m)\u001b[0m\u001b[0;34m\u001b[0m\u001b[0;34m\u001b[0m\u001b[0m\n\u001b[0;32m----> 2\u001b[0;31m \u001b[0;32mfrom\u001b[0m \u001b[0msklearn\u001b[0m \u001b[0;32mimport\u001b[0m \u001b[0mpyearth\u001b[0m\u001b[0;34m\u001b[0m\u001b[0;34m\u001b[0m\u001b[0m\n\u001b[0m",
            "\u001b[0;31mImportError\u001b[0m: cannot import name 'pyearth'",
            "",
            "\u001b[0;31m---------------------------------------------------------------------------\u001b[0;32m\nNOTE: If your import is failing due to a missing package, you can\nmanually install dependencies using either !pip or !apt.\n\nTo view examples of installing some common dependencies, click the\n\"Open Examples\" button below.\n\u001b[0;31m---------------------------------------------------------------------------\u001b[0m\n"
          ]
        }
      ]
    },
    {
      "metadata": {
        "id": "ZaxyuobOu8Ns",
        "colab_type": "code",
        "outputId": "408bc79b-90c2-4781-ed5e-275c511cf4c3",
        "colab": {
          "base_uri": "https://localhost:8080/",
          "height": 132
        }
      },
      "cell_type": "code",
      "source": [
        "import numpy\n",
        "from pyearth import Earth\n",
        "from matplotlib import pyplot\n",
        "\n",
        "#Create some fake data\n",
        "numpy.random.seed(0)\n",
        "m = 1000\n",
        "n = 10\n",
        "X = 80*numpy.random.uniform(size=(m,n)) - 40\n",
        "y = numpy.abs(X[:,6] - 4.0) + 1*numpy.random.normal(size=m)\n",
        "\n",
        "#Fit an Earth model\n",
        "model = Earth()\n",
        "model.fit(X,y)\n",
        "\n",
        "#Print the model\n",
        "print(model.trace())\n",
        "print(model.summary())\n",
        "\n",
        "#Plot the model\n",
        "y_hat = model.predict(X)\n",
        "pyplot.figure()\n",
        "pyplot.plot(X[:,6],y,'r.')\n",
        "pyplot.plot(X[:,6],y_hat,'b.')\n",
        "pyplot.xlabel('x_6')\n",
        "pyplot.ylabel('y')\n",
        "pyplot.title('Simple Earth Example')\n",
        "pyplot.show()"
      ],
      "execution_count": 0,
      "outputs": [
        {
          "output_type": "error",
          "ename": "SyntaxError",
          "evalue": "ignored",
          "traceback": [
            "\u001b[0;36m  File \u001b[0;32m\"<ipython-input-2-92941d4946e2>\"\u001b[0;36m, line \u001b[0;32m2\u001b[0m\n\u001b[0;31m    import scikit-learn\u001b[0m\n\u001b[0m                 ^\u001b[0m\n\u001b[0;31mSyntaxError\u001b[0m\u001b[0;31m:\u001b[0m invalid syntax\n"
          ]
        }
      ]
    },
    {
      "metadata": {
        "id": "JJPDSEBVnd5b",
        "colab_type": "text"
      },
      "cell_type": "markdown",
      "source": [
        "## Preparando ambiente e banco de dados/treino e teste"
      ]
    },
    {
      "metadata": {
        "id": "jVF9T0gIl56N",
        "colab_type": "code",
        "colab": {}
      },
      "cell_type": "code",
      "source": [
        "import pandas as pd\n",
        "\n",
        "\n",
        "import numpy as np\n",
        "from scipy.stats import skew\n",
        "from scipy.stats.stats import pearsonr\n",
        "\n",
        "\n",
        "train = pd.read_csv(\"data/train.csv\")\n",
        "test = pd.read_csv(\"data/test.csv\")\n",
        "\n",
        "\n",
        "all_data = pd.concat((train.loc[:,'MSSubClass':'SaleCondition'],\n",
        "test.loc[:,'MSSubClass':'SaleCondition']))"
      ],
      "execution_count": 0,
      "outputs": []
    },
    {
      "metadata": {
        "id": "dAHzRGXEnjR5",
        "colab_type": "text"
      },
      "cell_type": "markdown",
      "source": [
        "##  Começamos com algum processamento de dados básico. \n",
        "- Primeiro, vou transformar os recursos numéricos distorcidos usando \\ log (feature + 1), isso tornará os recursos mais normais\n",
        "- Criar variáveis Dummy para os recursos categóricos\n",
        "- Substituir os valores omissos numéricos (NaN’s) pela média de suas respectivas colunas"
      ]
    },
    {
      "metadata": {
        "id": "aUFAW3DqnikU",
        "colab_type": "code",
        "colab": {}
      },
      "cell_type": "code",
      "source": [
        "#log transform the target:\n",
        "train[\"SalePrice\"] = np.log1p(train[\"SalePrice\"])\n",
        "\n",
        "\n",
        "#log transform skewed numeric features:\n",
        "numeric_feats = all_data.dtypes[all_data.dtypes != \"object\"].index\n",
        "\n",
        "\n",
        "skewed_feats = train[numeric_feats].apply(lambda x: skew(x.dropna())) #compute skewness\n",
        "skewed_feats = skewed_feats[skewed_feats &gt; 0.75]\n",
        "skewed_feats = skewed_feats.index\n",
        "\n",
        "\n",
        "all_data[skewed_feats] = np.log1p(all_data[skewed_feats])"
      ],
      "execution_count": 0,
      "outputs": []
    },
    {
      "metadata": {
        "id": "uA_KvRE_qf_A",
        "colab_type": "text"
      },
      "cell_type": "markdown",
      "source": [
        "## Verificar a performance do algorítmo"
      ]
    },
    {
      "metadata": {
        "id": "t4SLbwHvqoGE",
        "colab_type": "code",
        "colab": {}
      },
      "cell_type": "code",
      "source": [
        "from sklearn.model_selection import cross_val_score\n",
        "from pyearth import Earth\n",
        "\n",
        "def rmse_cv(model):\n",
        "rmse= np.sqrt(-cross_val_score(model, X_train, y, scoring=\"neg_mean_squared_error\", cv = 5))\n",
        "return(rmse)\n",
        "\n",
        "mars = Earth(max_degree=1, penalty=1.0, endspan=5)\n",
        "\n",
        "cv_mars = rmse_cv(mars).mean()\n",
        "\n",
        "print(cv_mars)"
      ],
      "execution_count": 0,
      "outputs": []
    },
    {
      "metadata": {
        "id": "il1f8mLtqssl",
        "colab_type": "text"
      },
      "cell_type": "markdown",
      "source": [
        "## Indo além"
      ]
    },
    {
      "metadata": {
        "id": "ECRzbyrcqtxk",
        "colab_type": "code",
        "colab": {}
      },
      "cell_type": "code",
      "source": [
        "from sklearn.ensemble import AdaBoostRegressor\n",
        "\n",
        "\n",
        "boosted_model = AdaBoostRegressor(base_estimator=mars, n_estimators=25, learning_rate=0.1, loss=\"ex"
      ],
      "execution_count": 0,
      "outputs": []
    }
  ]
}