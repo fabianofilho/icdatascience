{
  "nbformat": 4,
  "nbformat_minor": 0,
  "metadata": {
    "colab": {
      "name": "DATASUS-reclink.ipynb",
      "version": "0.3.2",
      "provenance": [],
      "include_colab_link": true
    },
    "kernelspec": {
      "name": "python3",
      "display_name": "Python 3"
    }
  },
  "cells": [
    {
      "cell_type": "markdown",
      "metadata": {
        "id": "view-in-github",
        "colab_type": "text"
      },
      "source": [
        "<a href=\"https://colab.research.google.com/github/fabianofilho/icdatascience/blob/master/DATASUS_reclink.ipynb\" target=\"_parent\"><img src=\"https://colab.research.google.com/assets/colab-badge.svg\" alt=\"Open In Colab\"/></a>"
      ]
    },
    {
      "metadata": {
        "id": "mLcP1Gv4RBIq",
        "colab_type": "code",
        "colab": {}
      },
      "cell_type": "code",
      "source": [
        "import pandas as pd\n",
        "\n",
        "dfo1 = pd.read_csv('https://docs.google.com/spreadsheets/d/e/2PACX-1vR_MH3HjwGWD0icAnZ3LVxxKUIxYNgAE3R-m-P61g0T2iXE9bs3hjeItGKTJqIUslIOAFN7TrE2ghGM/pub?gid=1574877476&single=true&output=csv')\n",
        "dfo2 = pd.read_csv('https://docs.google.com/spreadsheets/d/e/2PACX-1vSQAjV9c7HSRNciS8zQZFtlffe-X0V8Wcc5EAM9wqhVGPHnI3IpAaliYwadmK4nHiKPz9GbXn_-xNNC/pub?gid=817434201&single=true&output=csv')\n",
        "dfo3 = pd.read_csv('https://docs.google.com/spreadsheets/d/e/2PACX-1vRGEAcKThbNaB9Kfp2vdoWZIMjUaVLwDF0Cf9_534xkV2iDWv4SZACgDBG7CnhzjXd_dCvwvadINdL1/pub?gid=1932938775&single=true&output=csv')\n",
        "dfo4 = pd.read_csv('https://docs.google.com/spreadsheets/d/e/2PACX-1vRf-ecv5pdc0k2GR3SBdoCeZtRM6SPjSyQDFVwlUmzd8YsPVWPwZvx3ZnM8y_B5kBcFH-QxYIyTuYzr/pub?gid=1342589125&single=true&output=csv')\n",
        "dfo5 = pd.read_csv('https://docs.google.com/spreadsheets/d/e/2PACX-1vS9XW4Hxc0QwEENpDDXLIBgDkyaTz89AXhgYYDcw7lHhBRjnLyQ2Y7B77fMV2LVmivKhSABYr-2fcFx/pub?gid=508819616&single=true&output=csv')\n",
        "\n",
        "dfn1 = pd.read_csv('https://docs.google.com/spreadsheets/d/e/2PACX-1vQm3T1J0pWoiG-JofcT-K4gvs1KBeKuCqYIxp2ZSvUjbdkzXFCrBd3pxFUqHvRqmg3iIunrxVTYIZRI/pub?gid=2016691083&single=true&output=csv')\n",
        "dfn2 = pd.read_csv('https://docs.google.com/spreadsheets/d/e/2PACX-1vQIyzKl_u0t_YN_stW1Nr4VHWw0XY5zdXhqi15RitMcNPQpDZdU5apVR5aOQmbVYu284B4wNJUMonXU/pub?gid=1338898032&single=true&output=csv')\n",
        "dfn3 = pd.read_csv('https://docs.google.com/spreadsheets/d/e/2PACX-1vTIPBsiEtG3heF7zGO6HRkVae9PAO_yJI8SVtw2YncAb1JByCTIsFid0rruA7c4Pq8TDCbI3j6LQjMc/pub?gid=580169372&single=true&output=csv')\n",
        "dfn4 = pd.read_csv('https://docs.google.com/spreadsheets/d/e/2PACX-1vROjHq3_oX3W_j6GEVjNBoKdnoUJgE5HGIfyrWnB8mgXikfc15O08SvOVXqmuxfyZmp-lMM3ETsPvkZ/pub?gid=535577998&single=true&output=csv')\n",
        "dfn5 = pd.read_csv('https://docs.google.com/spreadsheets/d/e/2PACX-1vRsmVmV6LY0nRKPr6MeqbNmH70iM20lPQdAmq0wNHJCRTxEGBzdM3cxgF6Ovd_mplD4RJ1EtCXBTAd6/pub?gid=1590264663&single=true&output=csv')\n",
        "\n",
        "dfo = pd.concat([dfo1, dfo2, dfo3, dfo4, dfo5])\n",
        "dfn = pd.concat([dfn1, dfn2, dfn3, dfn4, dfn5])\n",
        "\n",
        "df_merged = pd.merge(dfn, dfo, how='left', on = 'NUMERODN')\n",
        "df_merged.describe()\n",
        "\n",
        "df_merged_inner = pd.merge(dfn, dfo, how='inner', on = 'NUMERODN')\n",
        "df_merged_inner.describe()\n",
        "\n",
        "comp = recordlinkage.Compare()\n"
      ],
      "execution_count": 0,
      "outputs": []
    }
  ]
}