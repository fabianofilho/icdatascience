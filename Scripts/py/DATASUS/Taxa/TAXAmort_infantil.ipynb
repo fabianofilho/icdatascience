{
  "nbformat": 4,
  "nbformat_minor": 0,
  "metadata": {
    "colab": {
      "name": "TAXAmort-infantil.ipynb",
      "version": "0.3.2",
      "provenance": []
    },
    "kernelspec": {
      "name": "python3",
      "display_name": "Python 3"
    }
  },
  "cells": [
    {
      "metadata": {
        "id": "15V9K78w77Jg",
        "colab_type": "text"
      },
      "cell_type": "markdown",
      "source": [
        "# Mortalidade Infantil"
      ]
    },
    {
      "metadata": {
        "id": "xTqQLDo68M7a",
        "colab_type": "text"
      },
      "cell_type": "markdown",
      "source": [
        "## Comparação entre a taxa de mortalidade publicada e a taxa de mortalidade nos \"matches\" DN-DO"
      ]
    },
    {
      "metadata": {
        "id": "LoxMHFYC8D8h",
        "colab_type": "text"
      },
      "cell_type": "markdown",
      "source": [
        "[Cálculo da taxa](http://tabnet.datasus.gov.br/cgi/idb1997/mort/fqc02.htm) = **número de óbitos em menores de um ano (no ano calculado) / número de nascidos vivos (no ano calculado)**\n",
        "\n",
        "[Taxa publicada no Espírito Santo](https://saude.es.gov.br/Media/sesa/Relatorio%20de%20gestao/Balanco_de_Gestao_Ricardo_de_Oliveira.pdf)\n",
        "* 2017 = 10,62\n",
        "* 2016 = 11,66\n",
        "* 2015 = 11,34\n",
        "* 2014 = 11,3\n",
        "* 2013 =  10,89\n",
        "* 2012 = 11,31\n",
        "\n",
        "\n",
        "\n"
      ]
    },
    {
      "metadata": {
        "id": "9kO4dGUHBsB9",
        "colab_type": "text"
      },
      "cell_type": "markdown",
      "source": [
        "### Usaremos o pandas para fazer a importação do banco de dados (dataframe)"
      ]
    },
    {
      "metadata": {
        "id": "uO9auMtIBmSQ",
        "colab_type": "code",
        "colab": {}
      },
      "cell_type": "code",
      "source": [
        "import pandas as pd"
      ],
      "execution_count": 0,
      "outputs": []
    },
    {
      "metadata": {
        "id": "gZ8lUCHSBVK3",
        "colab_type": "text"
      },
      "cell_type": "markdown",
      "source": [
        "## Ano de 2016"
      ]
    },
    {
      "metadata": {
        "id": "jcIYUAuAC0X3",
        "colab_type": "text"
      },
      "cell_type": "markdown",
      "source": [
        "### Baixar banco de dados"
      ]
    },
    {
      "metadata": {
        "id": "lcpEcjsyBpK3",
        "colab_type": "code",
        "colab": {}
      },
      "cell_type": "code",
      "source": [
        "df_sinasc_es_2016 = pd.read_csv('')\n",
        "\n",
        "df_sim_es_2016 = pd.read_csv('https://docs.google.com/spreadsheets/d/e/2PACX-1vR_MH3HjwGWD0icAnZ3LVxxKUIxYNgAE3R-m-P61g0T2iXE9bs3hjeItGKTJqIUslIOAFN7TrE2ghGM/pub?output=csv')\n"
      ],
      "execution_count": 0,
      "outputs": []
    },
    {
      "metadata": {
        "id": "IhbxDSypCwoX",
        "colab_type": "text"
      },
      "cell_type": "markdown",
      "source": [
        "### Intersecção"
      ]
    },
    {
      "metadata": {
        "id": "VT40ZtXuC3sk",
        "colab_type": "code",
        "colab": {}
      },
      "cell_type": "code",
      "source": [
        "columns_intersection = df_sinasc_es.columns.intersection(df_sim_es.columns)\n",
        "columns_intersection"
      ],
      "execution_count": 0,
      "outputs": []
    },
    {
      "metadata": {
        "id": "kMrTCfoHC5JE",
        "colab_type": "text"
      },
      "cell_type": "markdown",
      "source": [
        "### Junção de Tabelas (left) = do sim para o SINASC\n",
        "\n",
        "```\n",
        "# This is formatted as code\n",
        "```\n",
        "\n"
      ]
    },
    {
      "metadata": {
        "id": "vRrLLHV-BbTJ",
        "colab_type": "text"
      },
      "cell_type": "markdown",
      "source": [
        "## Ano de 2015"
      ]
    },
    {
      "metadata": {
        "id": "0BPAl8KqB_eW",
        "colab_type": "code",
        "colab": {}
      },
      "cell_type": "code",
      "source": [
        "df_sinasc_es_2015 = pd.read_csv('')\n",
        "\n",
        "df_sim_es_2015 = pd.read_csv('')\n"
      ],
      "execution_count": 0,
      "outputs": []
    },
    {
      "metadata": {
        "id": "FbZG9zd4BgLc",
        "colab_type": "text"
      },
      "cell_type": "markdown",
      "source": [
        "## Ano de 2014\n"
      ]
    },
    {
      "metadata": {
        "id": "RpI2GdzyCBHR",
        "colab_type": "code",
        "colab": {}
      },
      "cell_type": "code",
      "source": [
        "df_sinasc_es_2014 = pd.read_csv('')\n",
        "\n",
        "df_sim_es_2014 = pd.read_csv('')\n"
      ],
      "execution_count": 0,
      "outputs": []
    },
    {
      "metadata": {
        "id": "kNyfUloVBgc_",
        "colab_type": "text"
      },
      "cell_type": "markdown",
      "source": [
        "## Ano de 2013"
      ]
    },
    {
      "metadata": {
        "id": "aSA4ysyECCdI",
        "colab_type": "code",
        "colab": {}
      },
      "cell_type": "code",
      "source": [
        "df_sinasc_es_2013 = pd.read_csv('')\n",
        "\n",
        "df_sim_es_2013 = pd.read_csv('')\n"
      ],
      "execution_count": 0,
      "outputs": []
    },
    {
      "metadata": {
        "id": "qZhmL0iZBgtl",
        "colab_type": "text"
      },
      "cell_type": "markdown",
      "source": [
        "## Ano de 2012\n"
      ]
    },
    {
      "metadata": {
        "id": "2Tzlbl-xCEkQ",
        "colab_type": "code",
        "colab": {}
      },
      "cell_type": "code",
      "source": [
        "df_sinasc_es_2012 = pd.read_csv('')\n",
        "df_sim_es_2012 = pd.read_csv('')\n"
      ],
      "execution_count": 0,
      "outputs": []
    }
  ]
}