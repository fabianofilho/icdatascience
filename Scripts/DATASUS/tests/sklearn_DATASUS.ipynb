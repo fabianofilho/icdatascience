{
  "nbformat": 4,
  "nbformat_minor": 0,
  "metadata": {
    "colab": {
      "name": "sklearn-DATASUS.ipynb",
      "version": "0.3.2",
      "provenance": []
    },
    "kernelspec": {
      "name": "python3",
      "display_name": "Python 3"
    }
  },
  "cells": [
    {
      "metadata": {
        "id": "fEZWRVLz9GhJ",
        "colab_type": "text"
      },
      "cell_type": "markdown",
      "source": [
        "# sklearn DN-DO"
      ]
    },
    {
      "metadata": {
        "id": "5J_RavzkAMrl",
        "colab_type": "text"
      },
      "cell_type": "markdown",
      "source": [
        "## Importando Bibliotecas"
      ]
    },
    {
      "metadata": {
        "id": "Z0qfeunV_Xzv",
        "colab_type": "code",
        "colab": {}
      },
      "cell_type": "code",
      "source": [
        "import pandas as pd\n",
        "import pandas_profiling as pp\n",
        "import sklearn \n",
        "import numpy as np\n",
        "from sklearn import preprocessing\n",
        "from sklearn.decomposition import PCA\n",
        "\n"
      ],
      "execution_count": 0,
      "outputs": []
    },
    {
      "metadata": {
        "id": "01rjUtN89PXp",
        "colab_type": "text"
      },
      "cell_type": "markdown",
      "source": [
        "## Baixando Banco de dados"
      ]
    },
    {
      "metadata": {
        "id": "A8sa98SV9Ogw",
        "colab_type": "code",
        "outputId": "a93cd4f1-0aa4-487c-ef71-c33a669652d9",
        "colab": {
          "base_uri": "https://localhost:8080/",
          "height": 86
        }
      },
      "cell_type": "code",
      "source": [
        "df_sinasc_es_2015 = pd.read_csv('https://docs.google.com/spreadsheets/d/e/2PACX-1vQIyzKl_u0t_YN_stW1Nr4VHWw0XY5zdXhqi15RitMcNPQpDZdU5apVR5aOQmbVYu284B4wNJUMonXU/pub?gid=1338898032&single=true&output=csv')\n",
        "df_sim_es_2015 = pd.read_csv('https://docs.google.com/spreadsheets/d/e/2PACX-1vSQAjV9c7HSRNciS8zQZFtlffe-X0V8Wcc5EAM9wqhVGPHnI3IpAaliYwadmK4nHiKPz9GbXn_-xNNC/pub?gid=817434201&single=true&output=csv')\n",
        "\n",
        "df_merged_left_2015 = pd.merge(df_sinasc_es_2015, df_sim_es_2015, how='left', on = 'NUMERODN')\n",
        "df_merged_inner_2015 = pd.merge(df_sinasc_es_2015, df_sim_es_2015, how='inner', on = 'NUMERODN')\n",
        "df_merged_outer_2015 = pd.merge(df_sinasc_es_2015, df_sim_es_2015, how='outer', on = 'NUMERODN', indicator=True)\n",
        "\n",
        "(len(df_merged_inner_2015.index))/(len(df_sinasc_es_2015.index))"
      ],
      "execution_count": 0,
      "outputs": [
        {
          "output_type": "stream",
          "text": [
            "/usr/local/lib/python3.6/dist-packages/IPython/core/interactiveshell.py:2718: DtypeWarning: Columns (23) have mixed types. Specify dtype option on import or set low_memory=False.\n",
            "  interactivity=interactivity, compiler=compiler, result=result)\n"
          ],
          "name": "stderr"
        },
        {
          "output_type": "execute_result",
          "data": {
            "text/plain": [
              "0.004899808573786902"
            ]
          },
          "metadata": {
            "tags": []
          },
          "execution_count": 4
        }
      ]
    },
    {
      "metadata": {
        "id": "vu7BZGyxGfI7",
        "colab_type": "text"
      },
      "cell_type": "markdown",
      "source": [
        "## Manuseando tipo de dados"
      ]
    },
    {
      "metadata": {
        "id": "sz2PjnObBOBb",
        "colab_type": "code",
        "outputId": "6072e712-6e15-49b2-e27e-36cd9fd5c612",
        "colab": {
          "base_uri": "https://localhost:8080/",
          "height": 1025
        }
      },
      "cell_type": "code",
      "source": [
        "df_merged_inner_2015.dtypes"
      ],
      "execution_count": 0,
      "outputs": [
        {
          "output_type": "execute_result",
          "data": {
            "text/plain": [
              "Unnamed: 0_x      int64\n",
              "NUMERODN          int64\n",
              "CODINST_x        object\n",
              "ORIGEM_x          int64\n",
              "NUMERODV_x        int64\n",
              "PREFIXODN         int64\n",
              "CODESTAB_x      float64\n",
              "CODMUNNASC        int64\n",
              "LOCNASC           int64\n",
              "IDADEMAE_x        int64\n",
              "ESTCIVMAE       float64\n",
              "ESCMAE_x        float64\n",
              "CODOCUPMAE      float64\n",
              "QTDFILVIVO_x    float64\n",
              "QTDFILMORT_x    float64\n",
              "CODMUNRES_x       int64\n",
              "GESTACAO_x      float64\n",
              "GRAVIDEZ_x      float64\n",
              "PARTO_x         float64\n",
              "CONSULTAS         int64\n",
              "DTNASC_x          int64\n",
              "HORANASC        float64\n",
              "SEXO_x            int64\n",
              "APGAR1          float64\n",
              "APGAR5          float64\n",
              "RACACOR_x       float64\n",
              "PESO_x          float64\n",
              "IDANOMAL        float64\n",
              "DTCADASTRO_x      int64\n",
              "CODANOMAL        object\n",
              "                 ...   \n",
              "DTCADASTRO_y    float64\n",
              "ATESTANTE       float64\n",
              "STCODIFICA       object\n",
              "CODIFICADO       object\n",
              "VERSAOSIST_y     object\n",
              "VERSAOSCB       float64\n",
              "FONTEINV        float64\n",
              "DTRECEBIM_y     float64\n",
              "ATESTADO         object\n",
              "DTRECORIGA_y      int64\n",
              "CAUSAMAT        float64\n",
              "ESCMAEAGR1_y    float64\n",
              "ESCFALAGR1      float64\n",
              "STDOEPIDEM      float64\n",
              "STDONOVA          int64\n",
              "DIFDATA_y         int64\n",
              "NUDIASOBCO      float64\n",
              "NUDIASOBIN      float64\n",
              "DTCADINV        float64\n",
              "TPOBITOCOR      float64\n",
              "DTCONINV        float64\n",
              "FONTES           object\n",
              "TPRESGINFO      float64\n",
              "TPNIVELINV       object\n",
              "NUDIASINF       float64\n",
              "DTCADINF        float64\n",
              "MORTEPARTO      float64\n",
              "DTCONCASO       float64\n",
              "FONTESINF       float64\n",
              "ALTCAUSA        float64\n",
              "Length: 157, dtype: object"
            ]
          },
          "metadata": {
            "tags": []
          },
          "execution_count": 7
        }
      ]
    },
    {
      "metadata": {
        "id": "hVJmwaL8C1SN",
        "colab_type": "code",
        "colab": {}
      },
      "cell_type": "code",
      "source": [
        "df_merged_inner_2015_droped = df_merged_inner_2015.dropna(how='any')"
      ],
      "execution_count": 0,
      "outputs": []
    },
    {
      "metadata": {
        "id": "ZgMsNdQYF4ur",
        "colab_type": "code",
        "colab": {}
      },
      "cell_type": "code",
      "source": [
        "df_merged_inner_2015_nona = df_merged_inner_2015 - df_merged_inner_2015_droped"
      ],
      "execution_count": 0,
      "outputs": []
    },
    {
      "metadata": {
        "id": "Pf83CJv1FhbS",
        "colab_type": "code",
        "colab": {}
      },
      "cell_type": "code",
      "source": [
        "df_merged_inner_2015_nona = df_merged_inner_2015_nona.astype(np.float16)\n"
      ],
      "execution_count": 0,
      "outputs": []
    },
    {
      "metadata": {
        "id": "boqnm7ACAOpm",
        "colab_type": "text"
      },
      "cell_type": "markdown",
      "source": [
        "## PCA"
      ]
    },
    {
      "metadata": {
        "id": "xhPKgoXE9FnB",
        "colab_type": "code",
        "outputId": "14f3ea6b-1a34-4485-dcad-55adfc921768",
        "colab": {
          "base_uri": "https://localhost:8080/",
          "height": 345
        }
      },
      "cell_type": "code",
      "source": [
        "pca = PCA(n_components=2)\n",
        "pca.fit(df_merged_inner_2015_nona)\n",
        "PCA(copy=True, iterated_power='auto', n_components=2, random_state=None,\n",
        "  svd_solver='auto', tol=0.0, whiten=False)"
      ],
      "execution_count": 0,
      "outputs": [
        {
          "output_type": "error",
          "ename": "ValueError",
          "evalue": "ignored",
          "traceback": [
            "\u001b[0;31m---------------------------------------------------------------------------\u001b[0m",
            "\u001b[0;31mValueError\u001b[0m                                Traceback (most recent call last)",
            "\u001b[0;32m<ipython-input-21-7d7d929273a1>\u001b[0m in \u001b[0;36m<module>\u001b[0;34m()\u001b[0m\n\u001b[1;32m      1\u001b[0m \u001b[0mpca\u001b[0m \u001b[0;34m=\u001b[0m \u001b[0mPCA\u001b[0m\u001b[0;34m(\u001b[0m\u001b[0mn_components\u001b[0m\u001b[0;34m=\u001b[0m\u001b[0;36m2\u001b[0m\u001b[0;34m)\u001b[0m\u001b[0;34m\u001b[0m\u001b[0;34m\u001b[0m\u001b[0m\n\u001b[0;32m----> 2\u001b[0;31m \u001b[0mpca\u001b[0m\u001b[0;34m.\u001b[0m\u001b[0mfit\u001b[0m\u001b[0;34m(\u001b[0m\u001b[0mdf_merged_inner_2015_nona\u001b[0m\u001b[0;34m)\u001b[0m\u001b[0;34m\u001b[0m\u001b[0;34m\u001b[0m\u001b[0m\n\u001b[0m\u001b[1;32m      3\u001b[0m PCA(copy=True, iterated_power='auto', n_components=2, random_state=None,\n\u001b[1;32m      4\u001b[0m   svd_solver='auto', tol=0.0, whiten=False)\n",
            "\u001b[0;32m/usr/local/lib/python3.6/dist-packages/sklearn/decomposition/pca.py\u001b[0m in \u001b[0;36mfit\u001b[0;34m(self, X, y)\u001b[0m\n\u001b[1;32m    338\u001b[0m             \u001b[0mReturns\u001b[0m \u001b[0mthe\u001b[0m \u001b[0minstance\u001b[0m \u001b[0mitself\u001b[0m\u001b[0;34m.\u001b[0m\u001b[0;34m\u001b[0m\u001b[0;34m\u001b[0m\u001b[0m\n\u001b[1;32m    339\u001b[0m         \"\"\"\n\u001b[0;32m--> 340\u001b[0;31m         \u001b[0mself\u001b[0m\u001b[0;34m.\u001b[0m\u001b[0m_fit\u001b[0m\u001b[0;34m(\u001b[0m\u001b[0mX\u001b[0m\u001b[0;34m)\u001b[0m\u001b[0;34m\u001b[0m\u001b[0;34m\u001b[0m\u001b[0m\n\u001b[0m\u001b[1;32m    341\u001b[0m         \u001b[0;32mreturn\u001b[0m \u001b[0mself\u001b[0m\u001b[0;34m\u001b[0m\u001b[0;34m\u001b[0m\u001b[0m\n\u001b[1;32m    342\u001b[0m \u001b[0;34m\u001b[0m\u001b[0m\n",
            "\u001b[0;32m/usr/local/lib/python3.6/dist-packages/sklearn/decomposition/pca.py\u001b[0m in \u001b[0;36m_fit\u001b[0;34m(self, X)\u001b[0m\n\u001b[1;32m    379\u001b[0m \u001b[0;34m\u001b[0m\u001b[0m\n\u001b[1;32m    380\u001b[0m         X = check_array(X, dtype=[np.float64, np.float32], ensure_2d=True,\n\u001b[0;32m--> 381\u001b[0;31m                         copy=self.copy)\n\u001b[0m\u001b[1;32m    382\u001b[0m \u001b[0;34m\u001b[0m\u001b[0m\n\u001b[1;32m    383\u001b[0m         \u001b[0;31m# Handle n_components==None\u001b[0m\u001b[0;34m\u001b[0m\u001b[0;34m\u001b[0m\u001b[0;34m\u001b[0m\u001b[0m\n",
            "\u001b[0;32m/usr/local/lib/python3.6/dist-packages/sklearn/utils/validation.py\u001b[0m in \u001b[0;36mcheck_array\u001b[0;34m(array, accept_sparse, accept_large_sparse, dtype, order, copy, force_all_finite, ensure_2d, allow_nd, ensure_min_samples, ensure_min_features, warn_on_dtype, estimator)\u001b[0m\n\u001b[1;32m    571\u001b[0m         \u001b[0;32mif\u001b[0m \u001b[0mforce_all_finite\u001b[0m\u001b[0;34m:\u001b[0m\u001b[0;34m\u001b[0m\u001b[0;34m\u001b[0m\u001b[0m\n\u001b[1;32m    572\u001b[0m             _assert_all_finite(array,\n\u001b[0;32m--> 573\u001b[0;31m                                allow_nan=force_all_finite == 'allow-nan')\n\u001b[0m\u001b[1;32m    574\u001b[0m \u001b[0;34m\u001b[0m\u001b[0m\n\u001b[1;32m    575\u001b[0m     \u001b[0mshape_repr\u001b[0m \u001b[0;34m=\u001b[0m \u001b[0m_shape_repr\u001b[0m\u001b[0;34m(\u001b[0m\u001b[0marray\u001b[0m\u001b[0;34m.\u001b[0m\u001b[0mshape\u001b[0m\u001b[0;34m)\u001b[0m\u001b[0;34m\u001b[0m\u001b[0;34m\u001b[0m\u001b[0m\n",
            "\u001b[0;32m/usr/local/lib/python3.6/dist-packages/sklearn/utils/validation.py\u001b[0m in \u001b[0;36m_assert_all_finite\u001b[0;34m(X, allow_nan)\u001b[0m\n\u001b[1;32m     54\u001b[0m                 not allow_nan and not np.isfinite(X).all()):\n\u001b[1;32m     55\u001b[0m             \u001b[0mtype_err\u001b[0m \u001b[0;34m=\u001b[0m \u001b[0;34m'infinity'\u001b[0m \u001b[0;32mif\u001b[0m \u001b[0mallow_nan\u001b[0m \u001b[0;32melse\u001b[0m \u001b[0;34m'NaN, infinity'\u001b[0m\u001b[0;34m\u001b[0m\u001b[0;34m\u001b[0m\u001b[0m\n\u001b[0;32m---> 56\u001b[0;31m             \u001b[0;32mraise\u001b[0m \u001b[0mValueError\u001b[0m\u001b[0;34m(\u001b[0m\u001b[0mmsg_err\u001b[0m\u001b[0;34m.\u001b[0m\u001b[0mformat\u001b[0m\u001b[0;34m(\u001b[0m\u001b[0mtype_err\u001b[0m\u001b[0;34m,\u001b[0m \u001b[0mX\u001b[0m\u001b[0;34m.\u001b[0m\u001b[0mdtype\u001b[0m\u001b[0;34m)\u001b[0m\u001b[0;34m)\u001b[0m\u001b[0;34m\u001b[0m\u001b[0;34m\u001b[0m\u001b[0m\n\u001b[0m\u001b[1;32m     57\u001b[0m \u001b[0;34m\u001b[0m\u001b[0m\n\u001b[1;32m     58\u001b[0m \u001b[0;34m\u001b[0m\u001b[0m\n",
            "\u001b[0;31mValueError\u001b[0m: Input contains NaN, infinity or a value too large for dtype('float64')."
          ]
        }
      ]
    },
    {
      "metadata": {
        "id": "XIsYX-BHAu3s",
        "colab_type": "code",
        "colab": {}
      },
      "cell_type": "code",
      "source": [
        "print(pca.explained_variance_ratio_)  "
      ],
      "execution_count": 0,
      "outputs": []
    },
    {
      "metadata": {
        "id": "i3twIChCAuh2",
        "colab_type": "code",
        "colab": {}
      },
      "cell_type": "code",
      "source": [
        "print(pca.singular_values_)  "
      ],
      "execution_count": 0,
      "outputs": []
    },
    {
      "metadata": {
        "id": "StR6ruUNAfMg",
        "colab_type": "code",
        "colab": {}
      },
      "cell_type": "code",
      "source": [
        "sklearn.decomposition.PCA(n_components=None, copy=True, whiten=False, \n",
        "                          svd_solver=’auto’, tol=0.0, iterated_power=’auto’, random_state=None)"
      ],
      "execution_count": 0,
      "outputs": []
    }
  ]
}