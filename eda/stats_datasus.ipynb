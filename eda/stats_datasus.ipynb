{
  "nbformat": 4,
  "nbformat_minor": 0,
  "metadata": {
    "colab": {
      "name": "stats-datasus",
      "provenance": []
    },
    "kernelspec": {
      "name": "python3",
      "display_name": "Python 3"
    },
    "accelerator": "GPU"
  },
  "cells": [
    {
      "cell_type": "markdown",
      "metadata": {
        "id": "obrXEt8lz59W",
        "colab_type": "text"
      },
      "source": [
        "# DATASUS stats"
      ]
    },
    {
      "cell_type": "markdown",
      "metadata": {
        "id": "O0uhaXELz-Y2",
        "colab_type": "text"
      },
      "source": [
        "## Prepare data"
      ]
    },
    {
      "cell_type": "code",
      "metadata": {
        "id": "1gtyh991wNfx",
        "colab_type": "code",
        "colab": {}
      },
      "source": [
        "import pandas as pd\n",
        "pd.set_option('display.max_info_columns', 500)"
      ],
      "execution_count": 0,
      "outputs": []
    },
    {
      "cell_type": "code",
      "metadata": {
        "id": "ZLNbg6uBv69_",
        "colab_type": "code",
        "colab": {}
      },
      "source": [
        "sinasc = pd.read_csv('http://bit.ly/df_sinasc_es_2017')\n",
        "sinasc['MORTALIDADE'] = 0"
      ],
      "execution_count": 0,
      "outputs": []
    },
    {
      "cell_type": "code",
      "metadata": {
        "id": "iVZGv9ZZwLM9",
        "colab_type": "code",
        "colab": {}
      },
      "source": [
        "sim = pd.read_csv('http://bit.ly/df_sim_es_2017')\n",
        "sim['MORTALIDADE'] = 1"
      ],
      "execution_count": 0,
      "outputs": []
    },
    {
      "cell_type": "code",
      "metadata": {
        "id": "T1J7jQacwSpu",
        "colab_type": "code",
        "colab": {}
      },
      "source": [
        "dndo = pd.merge(sinasc, sim, how='left', on='NUMERODN')"
      ],
      "execution_count": 0,
      "outputs": []
    },
    {
      "cell_type": "code",
      "metadata": {
        "id": "hSal-yRrzdlT",
        "colab_type": "code",
        "colab": {
          "base_uri": "https://localhost:8080/",
          "height": 139
        },
        "outputId": "047287a2-bd3a-40fc-9099-86b411888024"
      },
      "source": [
        "dndo.columns"
      ],
      "execution_count": 5,
      "outputs": [
        {
          "output_type": "execute_result",
          "data": {
            "text/plain": [
              "Index(['Unnamed: 0_x', 'NUMERODN', 'CODINST_x', 'ORIGEM_x', 'NUMERODV_x',\n",
              "       'PREFIXODN', 'CODESTAB_x', 'CODMUNNASC', 'LOCNASC', 'IDADEMAE_x',\n",
              "       ...\n",
              "       'FONTES', 'TPRESGINFO', 'TPNIVELINV', 'NUDIASINF', 'DTCADINF',\n",
              "       'MORTEPARTO', 'DTCONCASO', 'FONTESINF', 'ALTCAUSA', 'MORTALIDADE_y'],\n",
              "      dtype='object', length=159)"
            ]
          },
          "metadata": {
            "tags": []
          },
          "execution_count": 5
        }
      ]
    },
    {
      "cell_type": "code",
      "metadata": {
        "id": "iJSPNnBUyHuE",
        "colab_type": "code",
        "colab": {
          "base_uri": "https://localhost:8080/",
          "height": 34
        },
        "outputId": "592f14ce-725e-4300-fb5d-67394d793d74"
      },
      "source": [
        "(dndo.MORTALIDADE_x == 0).sum()"
      ],
      "execution_count": 6,
      "outputs": [
        {
          "output_type": "execute_result",
          "data": {
            "text/plain": [
              "55846"
            ]
          },
          "metadata": {
            "tags": []
          },
          "execution_count": 6
        }
      ]
    },
    {
      "cell_type": "code",
      "metadata": {
        "id": "jvIaOB-uweBD",
        "colab_type": "code",
        "colab": {
          "base_uri": "https://localhost:8080/",
          "height": 34
        },
        "outputId": "e22fabe4-485b-4cac-ae6d-2bd205963608"
      },
      "source": [
        "(dndo.MORTALIDADE_y == 1).sum()"
      ],
      "execution_count": 7,
      "outputs": [
        {
          "output_type": "execute_result",
          "data": {
            "text/plain": [
              "342"
            ]
          },
          "metadata": {
            "tags": []
          },
          "execution_count": 7
        }
      ]
    },
    {
      "cell_type": "code",
      "metadata": {
        "id": "5OGU1JtTwsyA",
        "colab_type": "code",
        "colab": {}
      },
      "source": [
        "dndo['MORTALIDADE'] = -1\n",
        "dndo.loc[dndo['MORTALIDADE_x'] == 0, 'MORTALIDADE'] = 0\n",
        "dndo.loc[dndo['MORTALIDADE_y'] == 1, 'MORTALIDADE'] = 1\n",
        "mortalidades = ['MORTALIDADE_x', 'MORTALIDADE_y']\n",
        "dndo = dndo.drop(mortalidades, 1)"
      ],
      "execution_count": 0,
      "outputs": []
    },
    {
      "cell_type": "code",
      "metadata": {
        "id": "4hVRK77_y_CX",
        "colab_type": "code",
        "colab": {
          "base_uri": "https://localhost:8080/",
          "height": 68
        },
        "outputId": "be61ebf3-f9ee-49fd-fc28-2d63cdd10055"
      },
      "source": [
        "dndo.MORTALIDADE.value_counts()"
      ],
      "execution_count": 9,
      "outputs": [
        {
          "output_type": "execute_result",
          "data": {
            "text/plain": [
              "0    55504\n",
              "1      342\n",
              "Name: MORTALIDADE, dtype: int64"
            ]
          },
          "metadata": {
            "tags": []
          },
          "execution_count": 9
        }
      ]
    },
    {
      "cell_type": "code",
      "metadata": {
        "id": "bqddOGIj0sEB",
        "colab_type": "code",
        "colab": {}
      },
      "source": [
        "do = dndo[dndo['MORTALIDADE'] == 1]\n",
        "dn = dndo[dndo['MORTALIDADE'] == 0]"
      ],
      "execution_count": 0,
      "outputs": []
    },
    {
      "cell_type": "markdown",
      "metadata": {
        "id": "LgRpGV6v0BgH",
        "colab_type": "text"
      },
      "source": [
        "## EDA -- exploratory data analysis"
      ]
    },
    {
      "cell_type": "code",
      "metadata": {
        "id": "6dE2jByR3S2c",
        "colab_type": "code",
        "colab": {
          "base_uri": "https://localhost:8080/",
          "height": 119
        },
        "outputId": "eb6a2eea-231e-4ad2-9211-f46773c0ff94"
      },
      "source": [
        "dndo.columns"
      ],
      "execution_count": 11,
      "outputs": [
        {
          "output_type": "execute_result",
          "data": {
            "text/plain": [
              "Index(['Unnamed: 0_x', 'NUMERODN', 'CODINST_x', 'ORIGEM_x', 'NUMERODV_x',\n",
              "       'PREFIXODN', 'CODESTAB_x', 'CODMUNNASC', 'LOCNASC', 'IDADEMAE_x',\n",
              "       ...\n",
              "       'FONTES', 'TPRESGINFO', 'TPNIVELINV', 'NUDIASINF', 'DTCADINF',\n",
              "       'MORTEPARTO', 'DTCONCASO', 'FONTESINF', 'ALTCAUSA', 'MORTALIDADE'],\n",
              "      dtype='object', length=158)"
            ]
          },
          "metadata": {
            "tags": []
          },
          "execution_count": 11
        }
      ]
    },
    {
      "cell_type": "code",
      "metadata": {
        "id": "psv2CeaE3N_c",
        "colab_type": "code",
        "colab": {}
      },
      "source": [
        "data = dndo[['LOCNASC',\n",
        " 'IDADEMAE_x',\n",
        " 'ESTCIVMAE',\n",
        " 'ESCMAE_x',\n",
        " 'CODOCUPMAE',\n",
        " 'QTDFILVIVO_x',\n",
        " 'QTDFILMORT_x',\n",
        " 'CODMUNRES_x',\n",
        " 'GESTACAO_x',\n",
        " 'GRAVIDEZ_x',\n",
        " 'PARTO_x',\n",
        " 'CONSULTAS',\n",
        " 'DTNASC_x',\n",
        " 'HORANASC',\n",
        " 'SEXO_x',\n",
        " 'APGAR1',\n",
        " 'APGAR5',\n",
        " 'RACACOR_x',\n",
        " 'PESO_x',\n",
        " 'IDANOMAL',\n",
        " 'RACACORMAE',\n",
        " 'QTDGESTANT',\n",
        " 'QTDPARTNOR',\n",
        " 'QTDPARTCES',\n",
        " 'IDADEPAI',\n",
        " 'SEMAGESTAC_x',\n",
        " 'TPMETESTIM',\n",
        " 'CONSPRENAT',\n",
        " 'MESPRENAT',\n",
        " 'TPAPRESENT',\n",
        " 'STTRABPART',\n",
        " 'STCESPARTO',\n",
        " 'STDNEPIDEM',\n",
        " 'TPROBSON',\n",
        " 'PARIDADE',\n",
        " 'KOTELCHUCK',\n",
        " 'MORTALIDADE'\n",
        " ]]"
      ],
      "execution_count": 0,
      "outputs": []
    },
    {
      "cell_type": "markdown",
      "metadata": {
        "id": "XHX5Fbyc3LiJ",
        "colab_type": "text"
      },
      "source": [
        "### APGAR1"
      ]
    },
    {
      "cell_type": "code",
      "metadata": {
        "id": "quLRS1VXzG3f",
        "colab_type": "code",
        "colab": {
          "base_uri": "https://localhost:8080/",
          "height": 300
        },
        "outputId": "ed844bb5-ae8f-44e4-fa0d-8ac92278e992"
      },
      "source": [
        "import seaborn as sns\n",
        "sns.boxplot(x='MORTALIDADE', y='APGAR1', data=data)"
      ],
      "execution_count": 13,
      "outputs": [
        {
          "output_type": "execute_result",
          "data": {
            "text/plain": [
              "<matplotlib.axes._subplots.AxesSubplot at 0x7f71ab2dfdd8>"
            ]
          },
          "metadata": {
            "tags": []
          },
          "execution_count": 13
        },
        {
          "output_type": "display_data",
          "data": {
            "image/png": "[encoded data removed]",
            "text/plain": [
              "<Figure size 432x288 with 1 Axes>"
            ]
          },
          "metadata": {
            "tags": []
          }
        }
      ]
    },
    {
      "cell_type": "code",
      "metadata": {
        "id": "aaUZoX_p28sn",
        "colab_type": "code",
        "colab": {
          "base_uri": "https://localhost:8080/",
          "height": 300
        },
        "outputId": "95f20679-ea36-4653-b1be-2c4c2d0c9348"
      },
      "source": [
        "data = data[data['APGAR1'] < 99]\n",
        "sns.boxplot(x='MORTALIDADE', y='APGAR1', data=data)"
      ],
      "execution_count": 14,
      "outputs": [
        {
          "output_type": "execute_result",
          "data": {
            "text/plain": [
              "<matplotlib.axes._subplots.AxesSubplot at 0x7f71a8a24f98>"
            ]
          },
          "metadata": {
            "tags": []
          },
          "execution_count": 14
        },
        {
          "output_type": "display_data",
          "data": {
            "image/png": "[encoded data removed]",
            "text/plain": [
              "<Figure size 432x288 with 1 Axes>"
            ]
          },
          "metadata": {
            "tags": []
          }
        }
      ]
    },
    {
      "cell_type": "markdown",
      "metadata": {
        "id": "bACvv7x953wy",
        "colab_type": "text"
      },
      "source": [
        "### APGAR5"
      ]
    },
    {
      "cell_type": "code",
      "metadata": {
        "id": "vOBJXplh2lyG",
        "colab_type": "code",
        "colab": {
          "base_uri": "https://localhost:8080/",
          "height": 300
        },
        "outputId": "8f598ec2-2704-4409-8ce7-f91024ec52a2"
      },
      "source": [
        "data = data[data['APGAR5'] < 99]\n",
        "sns.boxplot(x='MORTALIDADE', y='APGAR5', data=data)"
      ],
      "execution_count": 15,
      "outputs": [
        {
          "output_type": "execute_result",
          "data": {
            "text/plain": [
              "<matplotlib.axes._subplots.AxesSubplot at 0x7f71a8991c18>"
            ]
          },
          "metadata": {
            "tags": []
          },
          "execution_count": 15
        },
        {
          "output_type": "display_data",
          "data": {
            "image/png": "[encoded data removed]",
            "text/plain": [
              "<Figure size 432x288 with 1 Axes>"
            ]
          },
          "metadata": {
            "tags": []
          }
        }
      ]
    },
    {
      "cell_type": "markdown",
      "metadata": {
        "id": "r1XfaApQ6kQV",
        "colab_type": "text"
      },
      "source": [
        "### PESO"
      ]
    },
    {
      "cell_type": "code",
      "metadata": {
        "id": "mprrTCOi6Pff",
        "colab_type": "code",
        "colab": {
          "base_uri": "https://localhost:8080/",
          "height": 300
        },
        "outputId": "7ace2bd7-6e6b-4a01-98eb-75806424282d"
      },
      "source": [
        "sns.boxplot(x='MORTALIDADE', y='PESO_x', data=data)"
      ],
      "execution_count": 16,
      "outputs": [
        {
          "output_type": "execute_result",
          "data": {
            "text/plain": [
              "<matplotlib.axes._subplots.AxesSubplot at 0x7f71a8977ba8>"
            ]
          },
          "metadata": {
            "tags": []
          },
          "execution_count": 16
        },
        {
          "output_type": "display_data",
          "data": {
            "image/png": "[encoded data removed]",
            "text/plain": [
              "<Figure size 432x288 with 1 Axes>"
            ]
          },
          "metadata": {
            "tags": []
          }
        }
      ]
    },
    {
      "cell_type": "markdown",
      "metadata": {
        "id": "4spufMGW7mO8",
        "colab_type": "text"
      },
      "source": [
        "### CONSULTAS"
      ]
    },
    {
      "cell_type": "code",
      "metadata": {
        "id": "dJnfhj5G7jfG",
        "colab_type": "code",
        "colab": {
          "base_uri": "https://localhost:8080/",
          "height": 300
        },
        "outputId": "c693fa2a-3f95-4a3c-cbbe-68b00a34198b"
      },
      "source": [
        "data = data[data['CONSULTAS'] < 9]\n",
        "sns.boxplot(x='MORTALIDADE', y='CONSULTAS', data=data)"
      ],
      "execution_count": 17,
      "outputs": [
        {
          "output_type": "execute_result",
          "data": {
            "text/plain": [
              "<matplotlib.axes._subplots.AxesSubplot at 0x7f71a88e9160>"
            ]
          },
          "metadata": {
            "tags": []
          },
          "execution_count": 17
        },
        {
          "output_type": "display_data",
          "data": {
            "image/png": "[encoded data removed]",
            "text/plain": [
              "<Figure size 432x288 with 1 Axes>"
            ]
          },
          "metadata": {
            "tags": []
          }
        }
      ]
    },
    {
      "cell_type": "code",
      "metadata": {
        "id": "jtzhupC57qBB",
        "colab_type": "code",
        "colab": {
          "base_uri": "https://localhost:8080/",
          "height": 300
        },
        "outputId": "f2b3f0ad-ea28-4b93-df74-1b494781c14b"
      },
      "source": [
        "sns.boxplot(x='MORTALIDADE', y='CONSPRENAT', data=data)"
      ],
      "execution_count": 18,
      "outputs": [
        {
          "output_type": "execute_result",
          "data": {
            "text/plain": [
              "<matplotlib.axes._subplots.AxesSubplot at 0x7f71a8991e10>"
            ]
          },
          "metadata": {
            "tags": []
          },
          "execution_count": 18
        },
        {
          "output_type": "display_data",
          "data": {
            "image/png": "[encoded data removed]",
            "text/plain": [
              "<Figure size 432x288 with 1 Axes>"
            ]
          },
          "metadata": {
            "tags": []
          }
        }
      ]
    },
    {
      "cell_type": "markdown",
      "metadata": {
        "id": "7NFc1-of8nwz",
        "colab_type": "text"
      },
      "source": [
        "### IDADE"
      ]
    },
    {
      "cell_type": "markdown",
      "metadata": {
        "id": "9hY5PV9FLTTg",
        "colab_type": "text"
      },
      "source": [
        "#### MAE"
      ]
    },
    {
      "cell_type": "code",
      "metadata": {
        "id": "Itda0YSN754U",
        "colab_type": "code",
        "colab": {
          "base_uri": "https://localhost:8080/",
          "height": 300
        },
        "outputId": "49fb2e44-17c1-48d0-f529-8da039c57333"
      },
      "source": [
        "sns.boxplot(x='MORTALIDADE', y='IDADEMAE_x', data=data)"
      ],
      "execution_count": 19,
      "outputs": [
        {
          "output_type": "execute_result",
          "data": {
            "text/plain": [
              "<matplotlib.axes._subplots.AxesSubplot at 0x7f71a8818cf8>"
            ]
          },
          "metadata": {
            "tags": []
          },
          "execution_count": 19
        },
        {
          "output_type": "display_data",
          "data": {
            "image/png": "[encoded data removed]",
            "text/plain": [
              "<Figure size 432x288 with 1 Axes>"
            ]
          },
          "metadata": {
            "tags": []
          }
        }
      ]
    },
    {
      "cell_type": "markdown",
      "metadata": {
        "id": "m3pKMHqXLUWp",
        "colab_type": "text"
      },
      "source": [
        "#### PAI"
      ]
    },
    {
      "cell_type": "code",
      "metadata": {
        "id": "XP00OLr9LVLI",
        "colab_type": "code",
        "colab": {
          "base_uri": "https://localhost:8080/",
          "height": 300
        },
        "outputId": "f5585766-6fab-40ed-d9f7-667c8ff8aafa"
      },
      "source": [
        "sns.boxplot(x='MORTALIDADE', y='IDADEPAI', data=data)"
      ],
      "execution_count": 28,
      "outputs": [
        {
          "output_type": "execute_result",
          "data": {
            "text/plain": [
              "<matplotlib.axes._subplots.AxesSubplot at 0x7f71a8336358>"
            ]
          },
          "metadata": {
            "tags": []
          },
          "execution_count": 28
        },
        {
          "output_type": "display_data",
          "data": {
            "image/png": "[encoded data removed]",
            "text/plain": [
              "<Figure size 432x288 with 1 Axes>"
            ]
          },
          "metadata": {
            "tags": []
          }
        }
      ]
    },
    {
      "cell_type": "markdown",
      "metadata": {
        "id": "sJC5KbsJKNy9",
        "colab_type": "text"
      },
      "source": [
        "### GESTACAO"
      ]
    },
    {
      "cell_type": "code",
      "metadata": {
        "id": "33Gl31yU8rhN",
        "colab_type": "code",
        "colab": {
          "base_uri": "https://localhost:8080/",
          "height": 300
        },
        "outputId": "1bf66988-2760-4fd1-80a9-dec9ab10ea0e"
      },
      "source": [
        "sns.boxplot(x='MORTALIDADE', y='SEMAGESTAC_x', data=data)"
      ],
      "execution_count": 21,
      "outputs": [
        {
          "output_type": "execute_result",
          "data": {
            "text/plain": [
              "<matplotlib.axes._subplots.AxesSubplot at 0x7f71a84c9cf8>"
            ]
          },
          "metadata": {
            "tags": []
          },
          "execution_count": 21
        },
        {
          "output_type": "display_data",
          "data": {
            "image/png": "[encoded data removed]",
            "text/plain": [
              "<Figure size 432x288 with 1 Axes>"
            ]
          },
          "metadata": {
            "tags": []
          }
        }
      ]
    },
    {
      "cell_type": "code",
      "metadata": {
        "id": "s0GDQoWWKWwm",
        "colab_type": "code",
        "colab": {
          "base_uri": "https://localhost:8080/",
          "height": 300
        },
        "outputId": "30326967-e2fe-4076-8ba8-49ee7388390f"
      },
      "source": [
        ""
      ],
      "execution_count": 22,
      "outputs": [
        {
          "output_type": "execute_result",
          "data": {
            "text/plain": [
              "<matplotlib.axes._subplots.AxesSubplot at 0x7f71a84a1320>"
            ]
          },
          "metadata": {
            "tags": []
          },
          "execution_count": 22
        },
        {
          "output_type": "display_data",
          "data": {
            "image/png": "[encoded data removed]",
            "text/plain": [
              "<Figure size 432x288 with 1 Axes>"
            ]
          },
          "metadata": {
            "tags": []
          }
        }
      ]
    },
    {
      "cell_type": "markdown",
      "metadata": {
        "id": "KqQYALilKjxM",
        "colab_type": "text"
      },
      "source": [
        "### FILHOS"
      ]
    },
    {
      "cell_type": "markdown",
      "metadata": {
        "id": "e_Un4gYCKmw7",
        "colab_type": "text"
      },
      "source": [
        "#### MORTOS"
      ]
    },
    {
      "cell_type": "code",
      "metadata": {
        "id": "8PcKxpvkKgR5",
        "colab_type": "code",
        "colab": {
          "base_uri": "https://localhost:8080/",
          "height": 300
        },
        "outputId": "a418776c-4c92-44aa-ce7e-c37d04f68f5b"
      },
      "source": [
        "sns.boxplot(x='MORTALIDADE', y='QTDFILMORT_x', data=data)"
      ],
      "execution_count": 23,
      "outputs": [
        {
          "output_type": "execute_result",
          "data": {
            "text/plain": [
              "<matplotlib.axes._subplots.AxesSubplot at 0x7f71a8410ef0>"
            ]
          },
          "metadata": {
            "tags": []
          },
          "execution_count": 23
        },
        {
          "output_type": "display_data",
          "data": {
            "image/png": "[encoded data removed]",
            "text/plain": [
              "<Figure size 432x288 with 1 Axes>"
            ]
          },
          "metadata": {
            "tags": []
          }
        }
      ]
    },
    {
      "cell_type": "markdown",
      "metadata": {
        "id": "MW62-jf5KxFC",
        "colab_type": "text"
      },
      "source": [
        "#### VIVOS"
      ]
    },
    {
      "cell_type": "code",
      "metadata": {
        "id": "ORd3m124KtMs",
        "colab_type": "code",
        "colab": {
          "base_uri": "https://localhost:8080/",
          "height": 300
        },
        "outputId": "0ed10e2f-c311-40ec-ef35-29d3702c5b4e"
      },
      "source": [
        "sns.boxplot(x='MORTALIDADE', y='QTDFILVIVO_x', data=data)"
      ],
      "execution_count": 24,
      "outputs": [
        {
          "output_type": "execute_result",
          "data": {
            "text/plain": [
              "<matplotlib.axes._subplots.AxesSubplot at 0x7f71a83f6cc0>"
            ]
          },
          "metadata": {
            "tags": []
          },
          "execution_count": 24
        },
        {
          "output_type": "display_data",
          "data": {
            "image/png": "[encoded data removed]",
            "text/plain": [
              "<Figure size 432x288 with 1 Axes>"
            ]
          },
          "metadata": {
            "tags": []
          }
        }
      ]
    },
    {
      "cell_type": "markdown",
      "metadata": {
        "id": "E2rofmiUKz8W",
        "colab_type": "text"
      },
      "source": [
        "### PARTOS"
      ]
    },
    {
      "cell_type": "markdown",
      "metadata": {
        "id": "dmGgL3rBLCES",
        "colab_type": "text"
      },
      "source": [
        "#### ANTERIORES"
      ]
    },
    {
      "cell_type": "code",
      "metadata": {
        "id": "eGRiiRKNLDgu",
        "colab_type": "code",
        "colab": {
          "base_uri": "https://localhost:8080/",
          "height": 300
        },
        "outputId": "2a6b1dc0-ffb5-4dee-ddfd-8d90e33d310b"
      },
      "source": [
        "sns.boxplot(x='MORTALIDADE', y='QTDGESTANT', data=data)"
      ],
      "execution_count": 27,
      "outputs": [
        {
          "output_type": "execute_result",
          "data": {
            "text/plain": [
              "<matplotlib.axes._subplots.AxesSubplot at 0x7f71a82a0d68>"
            ]
          },
          "metadata": {
            "tags": []
          },
          "execution_count": 27
        },
        {
          "output_type": "display_data",
          "data": {
            "image/png": "[encoded data removed]",
            "text/plain": [
              "<Figure size 432x288 with 1 Axes>"
            ]
          },
          "metadata": {
            "tags": []
          }
        }
      ]
    },
    {
      "cell_type": "markdown",
      "metadata": {
        "id": "t4n_C7qvK4Bh",
        "colab_type": "text"
      },
      "source": [
        "#### NORMAIS"
      ]
    },
    {
      "cell_type": "code",
      "metadata": {
        "id": "giM6fWvVKvsy",
        "colab_type": "code",
        "colab": {
          "base_uri": "https://localhost:8080/",
          "height": 300
        },
        "outputId": "b6060b6e-fe0e-4b01-e6a4-6f5a3049a58b"
      },
      "source": [
        "sns.boxplot(x='MORTALIDADE', y='QTDPARTNOR', data=data)"
      ],
      "execution_count": 25,
      "outputs": [
        {
          "output_type": "execute_result",
          "data": {
            "text/plain": [
              "<matplotlib.axes._subplots.AxesSubplot at 0x7f71a8402048>"
            ]
          },
          "metadata": {
            "tags": []
          },
          "execution_count": 25
        },
        {
          "output_type": "display_data",
          "data": {
            "image/png": "[encoded data removed]",
            "text/plain": [
              "<Figure size 432x288 with 1 Axes>"
            ]
          },
          "metadata": {
            "tags": []
          }
        }
      ]
    },
    {
      "cell_type": "markdown",
      "metadata": {
        "id": "b7uhsOcEK-_Q",
        "colab_type": "text"
      },
      "source": [
        "#### CESÁRIAS"
      ]
    },
    {
      "cell_type": "code",
      "metadata": {
        "id": "OsDri0_LK54N",
        "colab_type": "code",
        "colab": {
          "base_uri": "https://localhost:8080/",
          "height": 300
        },
        "outputId": "861a2ec2-3341-47d1-c1cd-4d97cbde7af0"
      },
      "source": [
        "sns.boxplot(x='MORTALIDADE', y='QTDPARTCES', data=data)"
      ],
      "execution_count": 26,
      "outputs": [
        {
          "output_type": "execute_result",
          "data": {
            "text/plain": [
              "<matplotlib.axes._subplots.AxesSubplot at 0x7f71a82d74e0>"
            ]
          },
          "metadata": {
            "tags": []
          },
          "execution_count": 26
        },
        {
          "output_type": "display_data",
          "data": {
            "image/png": "[encoded data removed]",
            "text/plain": [
              "<Figure size 432x288 with 1 Axes>"
            ]
          },
          "metadata": {
            "tags": []
          }
        }
      ]
    },
    {
      "cell_type": "markdown",
      "metadata": {
        "id": "E3EMdtybLmqG",
        "colab_type": "text"
      },
      "source": [
        "### GRAVIDEZ\n",
        "- 1– Única; \n",
        "- 2– Dupla; \n",
        "- 3– Tripla ou mais; \n",
        "- 9– Ignorado."
      ]
    },
    {
      "cell_type": "code",
      "metadata": {
        "id": "RReWzdF6M7wr",
        "colab_type": "code",
        "colab": {}
      },
      "source": [
        "data.loc[data['GRAVIDEZ_x'] == 1, 'GRAVIDEZ_x'] = 'Unica'\n",
        "data.loc[data['GRAVIDEZ_x'] == 2, 'GRAVIDEZ_x'] = 'Dupla'\n",
        "data.loc[data['GRAVIDEZ_x'] == 3, 'GRAVIDEZ_x'] = 'Tripla ou mais'\n",
        "data.loc[data['GRAVIDEZ_x'] == 9, 'GRAVIDEZ_x'] = 'Ignorado'"
      ],
      "execution_count": 0,
      "outputs": []
    },
    {
      "cell_type": "code",
      "metadata": {
        "id": "LiTPuEL5MzvM",
        "colab_type": "code",
        "colab": {
          "base_uri": "https://localhost:8080/",
          "height": 369
        },
        "outputId": "1141d7dc-b0a4-4ac7-d75e-08f69e4eba05"
      },
      "source": [
        "sns.catplot(x=\"GRAVIDEZ_x\", kind=\"count\", palette=\"ch:.25\", data=data);"
      ],
      "execution_count": 49,
      "outputs": [
        {
          "output_type": "display_data",
          "data": {
            "image/png": "[encoded data removed]",
            "text/plain": [
              "<Figure size 360x360 with 1 Axes>"
            ]
          },
          "metadata": {
            "tags": []
          }
        }
      ]
    },
    {
      "cell_type": "markdown",
      "metadata": {
        "id": "55_aKKvJOnB1",
        "colab_type": "text"
      },
      "source": [
        "### LOCNASC\n",
        "- 1 – Hospital; \n",
        "- 2 – Outros estabelecimentos de saúde; \n",
        "- 3 – Domicílio; \n",
        "- 4 – Outros."
      ]
    },
    {
      "cell_type": "code",
      "metadata": {
        "id": "vArV2ZMTNFjf",
        "colab_type": "code",
        "colab": {}
      },
      "source": [
        "data.loc[data['LOCNASC'] == 1, 'LOCNASC'] = 'Hospital'\n",
        "data.loc[data['LOCNASC'] == 2, 'LOCNASC'] = 'Outros'\n",
        "data.loc[data['LOCNASC'] == 3, 'LOCNASC'] = 'Domicilio'\n",
        "data.loc[data['LOCNASC'] == 4, 'LOCNASC'] = 'Ignorado'"
      ],
      "execution_count": 0,
      "outputs": []
    },
    {
      "cell_type": "code",
      "metadata": {
        "id": "rRaymkzbPGnx",
        "colab_type": "code",
        "colab": {
          "base_uri": "https://localhost:8080/",
          "height": 369
        },
        "outputId": "c1139893-6469-4b59-fa73-973de5f201e3"
      },
      "source": [
        "sns.catplot(x=\"LOCNASC\", kind=\"count\", palette=\"ch:.25\", data=data);"
      ],
      "execution_count": 51,
      "outputs": [
        {
          "output_type": "display_data",
          "data": {
            "image/png": "[encoded data removed]",
            "text/plain": [
              "<Figure size 360x360 with 1 Axes>"
            ]
          },
          "metadata": {
            "tags": []
          }
        }
      ]
    },
    {
      "cell_type": "code",
      "metadata": {
        "id": "Qzgu_21oPMqW",
        "colab_type": "code",
        "colab": {}
      },
      "source": [
        ""
      ],
      "execution_count": 0,
      "outputs": []
    }
  ]
}