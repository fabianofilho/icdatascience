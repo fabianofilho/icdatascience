{
 "cells": [
  {
   "cell_type": "markdown",
   "metadata": {},
   "source": [
    "# TFDV"
   ]
  },
  {
   "cell_type": "code",
   "execution_count": 9,
   "metadata": {},
   "outputs": [
    {
     "name": "stdout",
     "output_type": "stream",
     "text": [
      "Requirement already satisfied: tensorflow-data-validation in /Users/fb/miniconda2/envs/tf/lib/python3.7/site-packages (0.13.1)\n",
      "Requirement already satisfied: apache-beam[gcp]<3,>=2.11 in /Users/fb/miniconda2/envs/tf/lib/python3.7/site-packages (from tensorflow-data-validation) (2.12.0)\n",
      "Requirement already satisfied: protobuf<4,>=3.7 in /Users/fb/miniconda2/envs/tf/lib/python3.7/site-packages (from tensorflow-data-validation) (3.7.1)\n",
      "Requirement already satisfied: pandas<1,>=0.18 in /Users/fb/miniconda2/envs/tf/lib/python3.7/site-packages (from tensorflow-data-validation) (0.24.2)\n",
      "Requirement already satisfied: six<2,>=1.10 in /Users/fb/miniconda2/envs/tf/lib/python3.7/site-packages (from tensorflow-data-validation) (1.12.0)\n",
      "Requirement already satisfied: joblib<1,>=0.12 in /Users/fb/miniconda2/envs/tf/lib/python3.7/site-packages (from tensorflow-data-validation) (0.13.2)\n",
      "Requirement already satisfied: numpy<2,>=1.14.5 in /Users/fb/miniconda2/envs/tf/lib/python3.7/site-packages (from tensorflow-data-validation) (1.16.3)\n",
      "Requirement already satisfied: tensorflow-metadata<0.14,>=0.12.1 in /Users/fb/miniconda2/envs/tf/lib/python3.7/site-packages (from tensorflow-data-validation) (0.13.0)\n",
      "Requirement already satisfied: absl-py<1,>=0.1.6 in /Users/fb/miniconda2/envs/tf/lib/python3.7/site-packages (from tensorflow-data-validation) (0.7.1)\n",
      "Requirement already satisfied: scikit-learn<1,>=0.18 in /Users/fb/miniconda2/envs/tf/lib/python3.7/site-packages (from tensorflow-data-validation) (0.21.1)\n",
      "Requirement already satisfied: IPython>=5.0 in /Users/fb/miniconda2/envs/tf/lib/python3.7/site-packages (from tensorflow-data-validation) (7.5.0)\n",
      "Requirement already satisfied: tensorflow-transform<0.14,>=0.13 in /Users/fb/miniconda2/envs/tf/lib/python3.7/site-packages (from tensorflow-data-validation) (0.13.0)\n",
      "Requirement already satisfied: crcmod<2.0,>=1.7 in /Users/fb/miniconda2/envs/tf/lib/python3.7/site-packages (from apache-beam[gcp]<3,>=2.11->tensorflow-data-validation) (1.7)\n",
      "Requirement already satisfied: grpcio<2,>=1.8 in /Users/fb/miniconda2/envs/tf/lib/python3.7/site-packages (from apache-beam[gcp]<3,>=2.11->tensorflow-data-validation) (1.20.1)\n",
      "Requirement already satisfied: fastavro<0.22,>=0.21.4 in /Users/fb/miniconda2/envs/tf/lib/python3.7/site-packages (from apache-beam[gcp]<3,>=2.11->tensorflow-data-validation) (0.21.23)\n",
      "Requirement already satisfied: future<1.0.0,>=0.16.0 in /Users/fb/miniconda2/envs/tf/lib/python3.7/site-packages (from apache-beam[gcp]<3,>=2.11->tensorflow-data-validation) (0.17.1)\n",
      "Requirement already satisfied: mock<3.0.0,>=1.0.1 in /Users/fb/miniconda2/envs/tf/lib/python3.7/site-packages (from apache-beam[gcp]<3,>=2.11->tensorflow-data-validation) (2.0.0)\n",
      "Requirement already satisfied: pyyaml<4.0.0,>=3.12 in /Users/fb/miniconda2/envs/tf/lib/python3.7/site-packages (from apache-beam[gcp]<3,>=2.11->tensorflow-data-validation) (3.13)\n",
      "Requirement already satisfied: avro-python3<2.0.0,>=1.8.1; python_version >= \"3.0\" in /Users/fb/miniconda2/envs/tf/lib/python3.7/site-packages (from apache-beam[gcp]<3,>=2.11->tensorflow-data-validation) (1.8.2)\n",
      "Requirement already satisfied: oauth2client<4,>=2.0.1 in /Users/fb/miniconda2/envs/tf/lib/python3.7/site-packages (from apache-beam[gcp]<3,>=2.11->tensorflow-data-validation) (3.0.0)\n",
      "Requirement already satisfied: pyarrow<0.12.0,>=0.11.1; python_version >= \"3.0\" or platform_system != \"Windows\" in /Users/fb/miniconda2/envs/tf/lib/python3.7/site-packages (from apache-beam[gcp]<3,>=2.11->tensorflow-data-validation) (0.11.1)\n",
      "Requirement already satisfied: httplib2<=0.11.3,>=0.8 in /Users/fb/miniconda2/envs/tf/lib/python3.7/site-packages (from apache-beam[gcp]<3,>=2.11->tensorflow-data-validation) (0.11.3)\n",
      "Requirement already satisfied: hdfs<3.0.0,>=2.1.0 in /Users/fb/miniconda2/envs/tf/lib/python3.7/site-packages (from apache-beam[gcp]<3,>=2.11->tensorflow-data-validation) (2.5.2)\n",
      "Requirement already satisfied: pytz>=2018.3 in /Users/fb/miniconda2/envs/tf/lib/python3.7/site-packages (from apache-beam[gcp]<3,>=2.11->tensorflow-data-validation) (2019.1)\n",
      "Requirement already satisfied: dill<0.2.10,>=0.2.9 in /Users/fb/miniconda2/envs/tf/lib/python3.7/site-packages (from apache-beam[gcp]<3,>=2.11->tensorflow-data-validation) (0.2.9)\n",
      "Requirement already satisfied: pydot<1.3,>=1.2.0 in /Users/fb/miniconda2/envs/tf/lib/python3.7/site-packages (from apache-beam[gcp]<3,>=2.11->tensorflow-data-validation) (1.2.4)\n",
      "Requirement already satisfied: proto-google-cloud-datastore-v1<=0.90.4,>=0.90.0; extra == \"gcp\" in /Users/fb/miniconda2/envs/tf/lib/python3.7/site-packages (from apache-beam[gcp]<3,>=2.11->tensorflow-data-validation) (0.90.4)\n",
      "Requirement already satisfied: google-cloud-pubsub==0.39.0; extra == \"gcp\" in /Users/fb/miniconda2/envs/tf/lib/python3.7/site-packages (from apache-beam[gcp]<3,>=2.11->tensorflow-data-validation) (0.39.0)\n",
      "Requirement already satisfied: google-cloud-bigquery<1.7.0,>=1.6.0; extra == \"gcp\" in /Users/fb/miniconda2/envs/tf/lib/python3.7/site-packages (from apache-beam[gcp]<3,>=2.11->tensorflow-data-validation) (1.6.1)\n",
      "Requirement already satisfied: google-cloud-bigtable==0.31.1; extra == \"gcp\" in /Users/fb/miniconda2/envs/tf/lib/python3.7/site-packages (from apache-beam[gcp]<3,>=2.11->tensorflow-data-validation) (0.31.1)\n",
      "Requirement already satisfied: google-cloud-core==0.28.1; extra == \"gcp\" in /Users/fb/miniconda2/envs/tf/lib/python3.7/site-packages (from apache-beam[gcp]<3,>=2.11->tensorflow-data-validation) (0.28.1)\n",
      "Requirement already satisfied: google-apitools<0.5.27,>=0.5.26; extra == \"gcp\" in /Users/fb/miniconda2/envs/tf/lib/python3.7/site-packages (from apache-beam[gcp]<3,>=2.11->tensorflow-data-validation) (0.5.26)\n",
      "Requirement already satisfied: setuptools in /Users/fb/miniconda2/envs/tf/lib/python3.7/site-packages (from protobuf<4,>=3.7->tensorflow-data-validation) (41.0.1)\n",
      "Requirement already satisfied: python-dateutil>=2.5.0 in /Users/fb/miniconda2/envs/tf/lib/python3.7/site-packages (from pandas<1,>=0.18->tensorflow-data-validation) (2.8.0)\n",
      "Requirement already satisfied: googleapis-common-protos in /Users/fb/miniconda2/envs/tf/lib/python3.7/site-packages (from tensorflow-metadata<0.14,>=0.12.1->tensorflow-data-validation) (1.5.10)\n",
      "Requirement already satisfied: scipy>=0.17.0 in /Users/fb/miniconda2/envs/tf/lib/python3.7/site-packages (from scikit-learn<1,>=0.18->tensorflow-data-validation) (1.2.1)\n",
      "Requirement already satisfied: appnope; sys_platform == \"darwin\" in /Users/fb/miniconda2/envs/tf/lib/python3.7/site-packages (from IPython>=5.0->tensorflow-data-validation) (0.1.0)\n",
      "Requirement already satisfied: pickleshare in /Users/fb/miniconda2/envs/tf/lib/python3.7/site-packages (from IPython>=5.0->tensorflow-data-validation) (0.7.5)\n",
      "Requirement already satisfied: prompt-toolkit<2.1.0,>=2.0.0 in /Users/fb/miniconda2/envs/tf/lib/python3.7/site-packages (from IPython>=5.0->tensorflow-data-validation) (2.0.9)\n",
      "Requirement already satisfied: jedi>=0.10 in /Users/fb/miniconda2/envs/tf/lib/python3.7/site-packages (from IPython>=5.0->tensorflow-data-validation) (0.13.3)\n",
      "Requirement already satisfied: pygments in /Users/fb/miniconda2/envs/tf/lib/python3.7/site-packages (from IPython>=5.0->tensorflow-data-validation) (2.4.0)\n",
      "Requirement already satisfied: decorator in /Users/fb/miniconda2/envs/tf/lib/python3.7/site-packages (from IPython>=5.0->tensorflow-data-validation) (4.4.0)\n",
      "Requirement already satisfied: traitlets>=4.2 in /Users/fb/miniconda2/envs/tf/lib/python3.7/site-packages (from IPython>=5.0->tensorflow-data-validation) (4.3.2)\n",
      "Requirement already satisfied: backcall in /Users/fb/miniconda2/envs/tf/lib/python3.7/site-packages (from IPython>=5.0->tensorflow-data-validation) (0.1.0)\n",
      "Requirement already satisfied: pexpect; sys_platform != \"win32\" in /Users/fb/miniconda2/envs/tf/lib/python3.7/site-packages (from IPython>=5.0->tensorflow-data-validation) (4.7.0)\n",
      "Requirement already satisfied: pbr>=0.11 in /Users/fb/miniconda2/envs/tf/lib/python3.7/site-packages (from mock<3.0.0,>=1.0.1->apache-beam[gcp]<3,>=2.11->tensorflow-data-validation) (5.2.0)\n",
      "Requirement already satisfied: pyasn1-modules>=0.0.5 in /Users/fb/miniconda2/envs/tf/lib/python3.7/site-packages (from oauth2client<4,>=2.0.1->apache-beam[gcp]<3,>=2.11->tensorflow-data-validation) (0.2.5)\n",
      "Requirement already satisfied: rsa>=3.1.4 in /Users/fb/miniconda2/envs/tf/lib/python3.7/site-packages (from oauth2client<4,>=2.0.1->apache-beam[gcp]<3,>=2.11->tensorflow-data-validation) (4.0)\n",
      "Requirement already satisfied: pyasn1>=0.1.7 in /Users/fb/miniconda2/envs/tf/lib/python3.7/site-packages (from oauth2client<4,>=2.0.1->apache-beam[gcp]<3,>=2.11->tensorflow-data-validation) (0.4.5)\n",
      "Requirement already satisfied: docopt in /Users/fb/miniconda2/envs/tf/lib/python3.7/site-packages (from hdfs<3.0.0,>=2.1.0->apache-beam[gcp]<3,>=2.11->tensorflow-data-validation) (0.6.2)\n",
      "Requirement already satisfied: requests>=2.7.0 in /Users/fb/miniconda2/envs/tf/lib/python3.7/site-packages (from hdfs<3.0.0,>=2.1.0->apache-beam[gcp]<3,>=2.11->tensorflow-data-validation) (2.22.0)\n",
      "Requirement already satisfied: pyparsing>=2.1.4 in /Users/fb/miniconda2/envs/tf/lib/python3.7/site-packages (from pydot<1.3,>=1.2.0->apache-beam[gcp]<3,>=2.11->tensorflow-data-validation) (2.4.0)\n",
      "Requirement already satisfied: google-api-core[grpc]<2.0.0dev,>=1.4.1 in /Users/fb/miniconda2/envs/tf/lib/python3.7/site-packages (from google-cloud-pubsub==0.39.0; extra == \"gcp\"->apache-beam[gcp]<3,>=2.11->tensorflow-data-validation) (1.11.0)\n",
      "Requirement already satisfied: grpc-google-iam-v1<0.12dev,>=0.11.4 in /Users/fb/miniconda2/envs/tf/lib/python3.7/site-packages (from google-cloud-pubsub==0.39.0; extra == \"gcp\"->apache-beam[gcp]<3,>=2.11->tensorflow-data-validation) (0.11.4)\n",
      "Requirement already satisfied: google-resumable-media>=0.2.1 in /Users/fb/miniconda2/envs/tf/lib/python3.7/site-packages (from google-cloud-bigquery<1.7.0,>=1.6.0; extra == \"gcp\"->apache-beam[gcp]<3,>=2.11->tensorflow-data-validation) (0.3.2)\n",
      "Requirement already satisfied: fasteners>=0.14 in /Users/fb/miniconda2/envs/tf/lib/python3.7/site-packages (from google-apitools<0.5.27,>=0.5.26; extra == \"gcp\"->apache-beam[gcp]<3,>=2.11->tensorflow-data-validation) (0.14.1)\n"
     ]
    },
    {
     "name": "stdout",
     "output_type": "stream",
     "text": [
      "Requirement already satisfied: wcwidth in /Users/fb/miniconda2/envs/tf/lib/python3.7/site-packages (from prompt-toolkit<2.1.0,>=2.0.0->IPython>=5.0->tensorflow-data-validation) (0.1.7)\r\n",
      "Requirement already satisfied: parso>=0.3.0 in /Users/fb/miniconda2/envs/tf/lib/python3.7/site-packages (from jedi>=0.10->IPython>=5.0->tensorflow-data-validation) (0.4.0)\r\n",
      "Requirement already satisfied: ipython-genutils in /Users/fb/miniconda2/envs/tf/lib/python3.7/site-packages (from traitlets>=4.2->IPython>=5.0->tensorflow-data-validation) (0.2.0)\r\n",
      "Requirement already satisfied: ptyprocess>=0.5 in /Users/fb/miniconda2/envs/tf/lib/python3.7/site-packages (from pexpect; sys_platform != \"win32\"->IPython>=5.0->tensorflow-data-validation) (0.6.0)\r\n",
      "Requirement already satisfied: certifi>=2017.4.17 in /Users/fb/miniconda2/envs/tf/lib/python3.7/site-packages (from requests>=2.7.0->hdfs<3.0.0,>=2.1.0->apache-beam[gcp]<3,>=2.11->tensorflow-data-validation) (2019.3.9)\r\n",
      "Requirement already satisfied: idna<2.9,>=2.5 in /Users/fb/miniconda2/envs/tf/lib/python3.7/site-packages (from requests>=2.7.0->hdfs<3.0.0,>=2.1.0->apache-beam[gcp]<3,>=2.11->tensorflow-data-validation) (2.8)\r\n",
      "Requirement already satisfied: urllib3!=1.25.0,!=1.25.1,<1.26,>=1.21.1 in /Users/fb/miniconda2/envs/tf/lib/python3.7/site-packages (from requests>=2.7.0->hdfs<3.0.0,>=2.1.0->apache-beam[gcp]<3,>=2.11->tensorflow-data-validation) (1.25.2)\r\n",
      "Requirement already satisfied: chardet<3.1.0,>=3.0.2 in /Users/fb/miniconda2/envs/tf/lib/python3.7/site-packages (from requests>=2.7.0->hdfs<3.0.0,>=2.1.0->apache-beam[gcp]<3,>=2.11->tensorflow-data-validation) (3.0.4)\r\n",
      "Requirement already satisfied: google-auth<2.0dev,>=0.4.0 in /Users/fb/miniconda2/envs/tf/lib/python3.7/site-packages (from google-api-core[grpc]<2.0.0dev,>=1.4.1->google-cloud-pubsub==0.39.0; extra == \"gcp\"->apache-beam[gcp]<3,>=2.11->tensorflow-data-validation) (1.6.3)\r\n",
      "Requirement already satisfied: monotonic>=0.1 in /Users/fb/miniconda2/envs/tf/lib/python3.7/site-packages (from fasteners>=0.14->google-apitools<0.5.27,>=0.5.26; extra == \"gcp\"->apache-beam[gcp]<3,>=2.11->tensorflow-data-validation) (1.5)\r\n",
      "Requirement already satisfied: cachetools>=2.0.0 in /Users/fb/miniconda2/envs/tf/lib/python3.7/site-packages (from google-auth<2.0dev,>=0.4.0->google-api-core[grpc]<2.0.0dev,>=1.4.1->google-cloud-pubsub==0.39.0; extra == \"gcp\"->apache-beam[gcp]<3,>=2.11->tensorflow-data-validation) (3.1.0)\r\n"
     ]
    }
   ],
   "source": [
    "!pip install tensorflow-data-validation"
   ]
  },
  {
   "cell_type": "code",
   "execution_count": 11,
   "metadata": {},
   "outputs": [
    {
     "ename": "ModuleNotFoundError",
     "evalue": "No module named 'tensorflow-data-validation'",
     "output_type": "error",
     "traceback": [
      "\u001b[0;31m---------------------------------------------------------------------------\u001b[0m",
      "\u001b[0;31mModuleNotFoundError\u001b[0m                       Traceback (most recent call last)",
      "\u001b[0;32m<ipython-input-11-70aa8bc2d87c>\u001b[0m in \u001b[0;36m<module>\u001b[0;34m\u001b[0m\n\u001b[0;32m----> 1\u001b[0;31m \u001b[0mtensorflow_data_validation\u001b[0m \u001b[0;34m=\u001b[0m \u001b[0m__import__\u001b[0m\u001b[0;34m(\u001b[0m\u001b[0;34m\"tensorflow-data-validation\"\u001b[0m\u001b[0;34m)\u001b[0m\u001b[0;34m\u001b[0m\u001b[0;34m\u001b[0m\u001b[0m\n\u001b[0m",
      "\u001b[0;31mModuleNotFoundError\u001b[0m: No module named 'tensorflow-data-validation'"
     ]
    }
   ],
   "source": [
    "tensorflow_data_validation = __import__(\"tensorflow-data-validation\")"
   ]
  },
  {
   "cell_type": "code",
   "execution_count": 7,
   "metadata": {},
   "outputs": [
    {
     "ename": "ModuleNotFoundError",
     "evalue": "No module named 'tensorflowdatavalidation'",
     "output_type": "error",
     "traceback": [
      "\u001b[0;31m---------------------------------------------------------------------------\u001b[0m",
      "\u001b[0;31mModuleNotFoundError\u001b[0m                       Traceback (most recent call last)",
      "\u001b[0;32m<ipython-input-7-906ba629d633>\u001b[0m in \u001b[0;36m<module>\u001b[0;34m\u001b[0m\n\u001b[0;32m----> 1\u001b[0;31m \u001b[0;32mimport\u001b[0m \u001b[0mtensorflowdatavalidation\u001b[0m \u001b[0;32mas\u001b[0m \u001b[0mtfdv\u001b[0m\u001b[0;34m\u001b[0m\u001b[0;34m\u001b[0m\u001b[0m\n\u001b[0m",
      "\u001b[0;31mModuleNotFoundError\u001b[0m: No module named 'tensorflowdatavalidation'"
     ]
    }
   ],
   "source": [
    "import tensorflow-data-validation as tfdv"
   ]
  },
  {
   "cell_type": "code",
   "execution_count": null,
   "metadata": {},
   "outputs": [],
   "source": [
    "#DN\n",
    "df_sinasc_es_2016 = pd.read_csv('http://bit.ly/df_sinasc_es_2016')\n",
    "df_sinasc_es_2015 = pd.read_csv('http://bit.ly/df_sinasc_es_2015')\n",
    "df_sinasc_es_2014 = pd.read_csv('http://bit.ly/df_sinasc_es_2014')\n",
    "df_sinasc_es_2013 = pd.read_csv('http://bit.ly/df_sinasc_es_2013')\n",
    "df_sinasc_es_2012= pd.read_csv('http://bit.ly/df_sinasc_es_2012')\n",
    "\n",
    "df_sinasc_es = pd.concat([df_sinasc_es_2016, df_sinasc_es_2015, df_sinasc_es_2014, df_sinasc_es_2013, df_sinasc_es_2012])\n",
    "\n",
    "\n",
    "#DO\n",
    "df_sim_es_2016  = pd.read_csv('http://bit.ly/df_sim_es_2016')\n",
    "df_sim_es_2015 = pd.read_csv('http://bit.ly/df_sim_es_2015')\n",
    "df_sim_es_2014 = pd.read_csv('http://bit.ly/df_sim_es_2014')\n",
    "df_sim_es_2013 = pd.read_csv('http://bit.ly/df_sim_es_2013')\n",
    "df_sim_es_2012 = pd.read_csv('http://bit.ly/df_sim_es_2012')\n",
    "\n",
    "df_sim_es = pd.concat([df_sim_es_2016, df_sim_es_2015, df_sim_es_2014, df_sim_es_2013, df_sim_es_2012])\n",
    "\n",
    "#merge_\n",
    "\n",
    "df_merged_left = pd.merge(df_sinasc_es, df_sim_es, how='left', on = 'NUMERODN')\n",
    "df_merged_inner = pd.merge(df_sinasc_es, df_sim_es, how='inner', on = 'NUMERODN')\n",
    "df_merged_outer = pd.merge(df_sinasc_es, df_sim_es, how='outer', on = 'NUMERODN', indicator=True)"
   ]
  }
 ],
 "metadata": {
  "kernelspec": {
   "display_name": "Python 3",
   "language": "python",
   "name": "python3"
  },
  "language_info": {
   "codemirror_mode": {
    "name": "ipython",
    "version": 3
   },
   "file_extension": ".py",
   "mimetype": "text/x-python",
   "name": "python",
   "nbconvert_exporter": "python",
   "pygments_lexer": "ipython3",
   "version": "3.7.3"
  }
 },
 "nbformat": 4,
 "nbformat_minor": 2
}
