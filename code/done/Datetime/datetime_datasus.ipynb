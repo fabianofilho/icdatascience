{
  "nbformat": 4,
  "nbformat_minor": 0,
  "metadata": {
    "colab": {
      "name": "datetime-datasus",
      "provenance": [],
      "collapsed_sections": [
        "XHX5Fbyc3LiJ",
        "bACvv7x953wy",
        "r1XfaApQ6kQV",
        "4spufMGW7mO8",
        "7NFc1-of8nwz",
        "9hY5PV9FLTTg",
        "m3pKMHqXLUWp",
        "sJC5KbsJKNy9",
        "KqQYALilKjxM",
        "e_Un4gYCKmw7",
        "MW62-jf5KxFC",
        "E2rofmiUKz8W",
        "dmGgL3rBLCES",
        "t4n_C7qvK4Bh",
        "b7uhsOcEK-_Q",
        "E3EMdtybLmqG",
        "55_aKKvJOnB1",
        "Atq_rR5pM2I_"
      ]
    },
    "kernelspec": {
      "name": "python3",
      "display_name": "Python 3"
    },
    "accelerator": "GPU"
  },
  "cells": [
    {
      "cell_type": "markdown",
      "metadata": {
        "id": "obrXEt8lz59W",
        "colab_type": "text"
      },
      "source": [
        "# Datetime datasus"
      ]
    },
    {
      "cell_type": "markdown",
      "metadata": {
        "id": "O0uhaXELz-Y2",
        "colab_type": "text"
      },
      "source": [
        "## Import data"
      ]
    },
    {
      "cell_type": "code",
      "metadata": {
        "id": "1gtyh991wNfx",
        "colab_type": "code",
        "colab": {}
      },
      "source": [
        "import pandas as pd\n",
        "pd.set_option('display.max_rows', 500)"
      ],
      "execution_count": 0,
      "outputs": []
    },
    {
      "cell_type": "code",
      "metadata": {
        "id": "ZLNbg6uBv69_",
        "colab_type": "code",
        "outputId": "ad4204c7-6fa6-4372-ef01-1d00190d8262",
        "colab": {
          "base_uri": "https://localhost:8080/",
          "height": 183
        }
      },
      "source": [
        "\n",
        "sinasc_1 = pd.read_csv('http://bit.ly/df_sinasc_es_2016', encoding='latin-1')\n",
        "sinasc_2 = pd.read_csv('http://bit.ly/df_sinasc_es_2015', encoding='latin-1')\n",
        "sinasc_3 = pd.read_csv('http://bit.ly/df_sinasc_es_2014', encoding='latin-1')\n",
        "sinasc_4 = pd.read_csv('http://bit.ly/df_sinasc_es_2013', encoding='latin-1')\n",
        "sinasc_5 = pd.read_csv('http://bit.ly/df_sinasc_es_2012', encoding='latin-1')\n",
        "sinasc = pd.concat([sinasc_1, sinasc_2, sinasc_3, sinasc_4, sinasc_5])"
      ],
      "execution_count": 8,
      "outputs": [
        {
          "output_type": "stream",
          "text": [
            "/usr/local/lib/python3.6/dist-packages/ipykernel_launcher.py:7: FutureWarning: Sorting because non-concatenation axis is not aligned. A future version\n",
            "of pandas will change to not sort by default.\n",
            "\n",
            "To accept the future behavior, pass 'sort=False'.\n",
            "\n",
            "To retain the current behavior and silence the warning, pass 'sort=True'.\n",
            "\n",
            "  import sys\n"
          ],
          "name": "stderr"
        }
      ]
    },
    {
      "cell_type": "code",
      "metadata": {
        "id": "iVZGv9ZZwLM9",
        "colab_type": "code",
        "colab": {
          "base_uri": "https://localhost:8080/",
          "height": 219
        },
        "outputId": "296a978a-2f0a-4208-dcf5-ce17e96320cc"
      },
      "source": [
        "sim_1 = pd.read_csv('http://bit.ly/df_sim_es_2016', encoding='latin-1')\n",
        "sim_2 = pd.read_csv('http://bit.ly/df_sim_es_2015', encoding='latin-1')\n",
        "sim_3 = pd.read_csv('http://bit.ly/df_sim_es_2014', encoding='latin-1')\n",
        "sim_4 = pd.read_csv('http://bit.ly/df_sim_es_2013', encoding='latin-1')\n",
        "sim_5 = pd.read_csv('http://bit.ly/df_sim_es_2012', encoding='latin-1')\n",
        "sim = pd.concat([sim_1, sim_2, sim_3, sim_4, sim_5])"
      ],
      "execution_count": 10,
      "outputs": [
        {
          "output_type": "stream",
          "text": [
            "/usr/local/lib/python3.6/dist-packages/IPython/core/interactiveshell.py:2718: DtypeWarning: Columns (23) have mixed types. Specify dtype option on import or set low_memory=False.\n",
            "  interactivity=interactivity, compiler=compiler, result=result)\n",
            "/usr/local/lib/python3.6/dist-packages/ipykernel_launcher.py:6: FutureWarning: Sorting because non-concatenation axis is not aligned. A future version\n",
            "of pandas will change to not sort by default.\n",
            "\n",
            "To accept the future behavior, pass 'sort=False'.\n",
            "\n",
            "To retain the current behavior and silence the warning, pass 'sort=True'.\n",
            "\n",
            "  \n"
          ],
          "name": "stderr"
        }
      ]
    },
    {
      "cell_type": "code",
      "metadata": {
        "id": "G5OcIA37m8mM",
        "colab_type": "code",
        "outputId": "ec0454c1-ff03-4ebc-d249-c8729e479259",
        "colab": {
          "base_uri": "https://localhost:8080/",
          "height": 35
        }
      },
      "source": [
        "sinasc.shape, sim.shape"
      ],
      "execution_count": 11,
      "outputs": [
        {
          "output_type": "execute_result",
          "data": {
            "text/plain": [
              "((273802, 71), (110497, 98))"
            ]
          },
          "metadata": {
            "tags": []
          },
          "execution_count": 11
        }
      ]
    },
    {
      "cell_type": "markdown",
      "metadata": {
        "id": "oplMuIphwXqg",
        "colab_type": "text"
      },
      "source": [
        "## Integração dos dados"
      ]
    },
    {
      "cell_type": "code",
      "metadata": {
        "id": "MK2Kp5oppKnx",
        "colab_type": "code",
        "colab": {}
      },
      "source": [
        "dndo_ndn_inner = pd.merge(sinasc, sim, how='inner', on='NUMERODN',  indicator='merge')"
      ],
      "execution_count": 0,
      "outputs": []
    },
    {
      "cell_type": "code",
      "metadata": {
        "id": "FjCNuMxXpOiw",
        "colab_type": "code",
        "outputId": "47571adb-61cf-4b8f-e364-c60534643414",
        "colab": {
          "base_uri": "https://localhost:8080/",
          "height": 35
        }
      },
      "source": [
        "dndo_ndn_inner.shape"
      ],
      "execution_count": 13,
      "outputs": [
        {
          "output_type": "execute_result",
          "data": {
            "text/plain": [
              "(1438, 169)"
            ]
          },
          "metadata": {
            "tags": []
          },
          "execution_count": 13
        }
      ]
    },
    {
      "cell_type": "code",
      "metadata": {
        "id": "Amz_ru09voTo",
        "colab_type": "code",
        "colab": {}
      },
      "source": [
        "dndo_ndn_inner['MORTALIDADE'] = 1\n",
        "sinasc['MORTALIDADE'] = 0"
      ],
      "execution_count": 0,
      "outputs": []
    },
    {
      "cell_type": "code",
      "metadata": {
        "id": "5OGU1JtTwsyA",
        "colab_type": "code",
        "colab": {
          "base_uri": "https://localhost:8080/",
          "height": 183
        },
        "outputId": "df9c1964-598d-4145-deaa-d89adcad0b7d"
      },
      "source": [
        "dndo = pd.concat([dndo_ndn_inner, sinasc])\n",
        "dndo.drop_duplicates(subset='NUMERODN', inplace=True)"
      ],
      "execution_count": 17,
      "outputs": [
        {
          "output_type": "stream",
          "text": [
            "/usr/local/lib/python3.6/dist-packages/ipykernel_launcher.py:1: FutureWarning: Sorting because non-concatenation axis is not aligned. A future version\n",
            "of pandas will change to not sort by default.\n",
            "\n",
            "To accept the future behavior, pass 'sort=False'.\n",
            "\n",
            "To retain the current behavior and silence the warning, pass 'sort=True'.\n",
            "\n",
            "  \"\"\"Entry point for launching an IPython kernel.\n"
          ],
          "name": "stderr"
        }
      ]
    },
    {
      "cell_type": "code",
      "metadata": {
        "id": "4hVRK77_y_CX",
        "colab_type": "code",
        "outputId": "668b0327-45d3-441f-ebd2-6538eed50775",
        "colab": {
          "base_uri": "https://localhost:8080/",
          "height": 72
        }
      },
      "source": [
        "dndo.MORTALIDADE.value_counts()"
      ],
      "execution_count": 18,
      "outputs": [
        {
          "output_type": "execute_result",
          "data": {
            "text/plain": [
              "0    272369\n",
              "1      1433\n",
              "Name: MORTALIDADE, dtype: int64"
            ]
          },
          "metadata": {
            "tags": []
          },
          "execution_count": 18
        }
      ]
    },
    {
      "cell_type": "markdown",
      "metadata": {
        "id": "IZUp4Fi4wbxP",
        "colab_type": "text"
      },
      "source": [
        "## Delta para idade"
      ]
    },
    {
      "cell_type": "code",
      "metadata": {
        "id": "4yf_zZFdSeBx",
        "colab_type": "code",
        "colab": {}
      },
      "source": [
        "def convert(data):\n",
        "    d = int(data/1000000)\n",
        "    data = data - d*1000000\n",
        "    m = int(data/10000)\n",
        "    data = data - m*10000\n",
        "    y = data\n",
        "    fin = y*10000 + m*100 +d\n",
        "    return fin"
      ],
      "execution_count": 0,
      "outputs": []
    },
    {
      "cell_type": "code",
      "metadata": {
        "id": "r0ify7mRTANc",
        "colab_type": "code",
        "colab": {}
      },
      "source": [
        "do = dndo[dndo['MORTALIDADE'] == 1]\n",
        "dn = dndo[dndo['MORTALIDADE'] == 0]"
      ],
      "execution_count": 0,
      "outputs": []
    },
    {
      "cell_type": "code",
      "metadata": {
        "id": "Imocu7FLTFUC",
        "colab_type": "code",
        "colab": {
          "base_uri": "https://localhost:8080/",
          "height": 146
        },
        "outputId": "3d102a78-9f97-4b36-e449-644e55de50cf"
      },
      "source": [
        "do.DTNASC_x = do.DTNASC_x.apply(convert)\n",
        "do.DTNASC_x = pd.to_datetime(do.DTNASC_x, format='%Y%m%d')"
      ],
      "execution_count": 21,
      "outputs": [
        {
          "output_type": "stream",
          "text": [
            "/usr/local/lib/python3.6/dist-packages/pandas/core/generic.py:5096: SettingWithCopyWarning: \n",
            "A value is trying to be set on a copy of a slice from a DataFrame.\n",
            "Try using .loc[row_indexer,col_indexer] = value instead\n",
            "\n",
            "See the caveats in the documentation: http://pandas.pydata.org/pandas-docs/stable/indexing.html#indexing-view-versus-copy\n",
            "  self[name] = value\n"
          ],
          "name": "stderr"
        }
      ]
    },
    {
      "cell_type": "code",
      "metadata": {
        "id": "rZk2rJ_TTKSY",
        "colab_type": "code",
        "colab": {
          "base_uri": "https://localhost:8080/",
          "height": 146
        },
        "outputId": "d43ef7a9-2a34-4f92-f924-3276d80788f1"
      },
      "source": [
        "do.DTOBITO = do.DTOBITO.apply(convert)\n",
        "do.DTOBITO = pd.to_datetime(do.DTOBITO, format='%Y%m%d')\n"
      ],
      "execution_count": 22,
      "outputs": [
        {
          "output_type": "stream",
          "text": [
            "/usr/local/lib/python3.6/dist-packages/pandas/core/generic.py:5096: SettingWithCopyWarning: \n",
            "A value is trying to be set on a copy of a slice from a DataFrame.\n",
            "Try using .loc[row_indexer,col_indexer] = value instead\n",
            "\n",
            "See the caveats in the documentation: http://pandas.pydata.org/pandas-docs/stable/indexing.html#indexing-view-versus-copy\n",
            "  self[name] = value\n"
          ],
          "name": "stderr"
        }
      ]
    },
    {
      "cell_type": "code",
      "metadata": {
        "id": "y_2SGx3wTOU5",
        "colab_type": "code",
        "outputId": "eeafcb5f-1558-4b48-e921-17a6cd01268d",
        "colab": {
          "base_uri": "https://localhost:8080/",
          "height": 419
        }
      },
      "source": [
        "do['age'] = -1\n",
        "do['age'] = (do.DTOBITO - do.DTNASC_x).dt.total_seconds()/86400 #total seconds of day\n",
        "do.age.describe()"
      ],
      "execution_count": 23,
      "outputs": [
        {
          "output_type": "stream",
          "text": [
            "/usr/local/lib/python3.6/dist-packages/ipykernel_launcher.py:1: SettingWithCopyWarning: \n",
            "A value is trying to be set on a copy of a slice from a DataFrame.\n",
            "Try using .loc[row_indexer,col_indexer] = value instead\n",
            "\n",
            "See the caveats in the documentation: http://pandas.pydata.org/pandas-docs/stable/indexing.html#indexing-view-versus-copy\n",
            "  \"\"\"Entry point for launching an IPython kernel.\n",
            "/usr/local/lib/python3.6/dist-packages/ipykernel_launcher.py:2: SettingWithCopyWarning: \n",
            "A value is trying to be set on a copy of a slice from a DataFrame.\n",
            "Try using .loc[row_indexer,col_indexer] = value instead\n",
            "\n",
            "See the caveats in the documentation: http://pandas.pydata.org/pandas-docs/stable/indexing.html#indexing-view-versus-copy\n",
            "  \n"
          ],
          "name": "stderr"
        },
        {
          "output_type": "execute_result",
          "data": {
            "text/plain": [
              "count    1433.000000\n",
              "mean       36.452896\n",
              "std        81.162749\n",
              "min       -10.000000\n",
              "25%         1.000000\n",
              "50%         4.000000\n",
              "75%        30.000000\n",
              "max      1526.000000\n",
              "Name: age, dtype: float64"
            ]
          },
          "metadata": {
            "tags": []
          },
          "execution_count": 23
        }
      ]
    },
    {
      "cell_type": "code",
      "metadata": {
        "id": "poK2gUmnTfKU",
        "colab_type": "code",
        "outputId": "08c1b43a-3f11-40ae-a35b-843259abb791",
        "colab": {
          "base_uri": "https://localhost:8080/",
          "height": 35
        }
      },
      "source": [
        "do.shape"
      ],
      "execution_count": 24,
      "outputs": [
        {
          "output_type": "execute_result",
          "data": {
            "text/plain": [
              "(1433, 204)"
            ]
          },
          "metadata": {
            "tags": []
          },
          "execution_count": 24
        }
      ]
    },
    {
      "cell_type": "code",
      "metadata": {
        "id": "aAW_-pxoTYVh",
        "colab_type": "code",
        "colab": {}
      },
      "source": [
        "do_menor = do[do['age'] < 365]\n",
        "do_menor = do[do['age'] > 0]"
      ],
      "execution_count": 0,
      "outputs": []
    },
    {
      "cell_type": "code",
      "metadata": {
        "id": "EzX0TItzwj4p",
        "colab_type": "code",
        "colab": {
          "base_uri": "https://localhost:8080/",
          "height": 72
        },
        "outputId": "fa0e18d5-9475-4e7d-c69a-40b34dbf16f5"
      },
      "source": [
        "do[do['age'] < 0].DTNASC_x, do[do['age'] < 0].DTOBITO"
      ],
      "execution_count": 31,
      "outputs": [
        {
          "output_type": "execute_result",
          "data": {
            "text/plain": [
              "(1287   2012-05-29\n",
              " Name: DTNASC_x, dtype: datetime64[ns], 1287   2012-05-19\n",
              " Name: DTOBITO, dtype: datetime64[ns])"
            ]
          },
          "metadata": {
            "tags": []
          },
          "execution_count": 31
        }
      ]
    },
    {
      "cell_type": "code",
      "metadata": {
        "id": "UQVPeYBcwoin",
        "colab_type": "code",
        "colab": {}
      },
      "source": [
        ""
      ],
      "execution_count": 0,
      "outputs": []
    }
  ]
}