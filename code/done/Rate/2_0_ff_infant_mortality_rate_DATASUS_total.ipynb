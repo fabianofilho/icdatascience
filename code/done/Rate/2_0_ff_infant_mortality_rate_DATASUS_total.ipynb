{
  "nbformat": 4,
  "nbformat_minor": 0,
  "metadata": {
    "colab": {
      "name": "2.0-ff-infant-mortality-rate-DATASUS-total.ipynb",
      "version": "0.3.2",
      "provenance": []
    },
    "kernelspec": {
      "name": "python3",
      "display_name": "Python 3"
    }
  },
  "cells": [
    {
      "metadata": {
        "id": "KNuKoJ1ZlvdS",
        "colab_type": "code",
        "colab": {}
      },
      "cell_type": "code",
      "source": [
        "# Import packages\n",
        "import pandas as pd"
      ],
      "execution_count": 0,
      "outputs": []
    },
    {
      "metadata": {
        "id": "GpckBU6Vl4A6",
        "colab_type": "code",
        "colab": {
          "base_uri": "https://localhost:8080/",
          "height": 356
        },
        "outputId": "70398b47-8058-4e3c-9db1-e7e8ec8dd49c"
      },
      "cell_type": "code",
      "source": [
        "# Download datasets\n",
        "\n",
        "## SINASC\n",
        "df_sinasc_es_2016 = pd.read_csv('https://docs.google.com/spreadsheets/d/e/2PACX-1vSkaN1Ye-7puUZMT3J_yuJisowxrmsU3BAsvyfI3ZxD_mKPJ_4fjfnUS9_JH83fAocKWjyRquGMJxde/pub?output=csv')\n",
        "df_sinasc_es_2015 = pd.read_csv('https://docs.google.com/spreadsheets/d/e/2PACX-1vQIyzKl_u0t_YN_stW1Nr4VHWw0XY5zdXhqi15RitMcNPQpDZdU5apVR5aOQmbVYu284B4wNJUMonXU/pub?gid=1338898032&single=true&output=csv')\n",
        "df_sinasc_es_2014 = pd.read_csv('https://docs.google.com/spreadsheets/d/e/2PACX-1vTIPBsiEtG3heF7zGO6HRkVae9PAO_yJI8SVtw2YncAb1JByCTIsFid0rruA7c4Pq8TDCbI3j6LQjMc/pub?gid=580169372&single=true&output=csv')\n",
        "df_sinasc_es_2013 = pd.read_csv('https://docs.google.com/spreadsheets/d/e/2PACX-1vROjHq3_oX3W_j6GEVjNBoKdnoUJgE5HGIfyrWnB8mgXikfc15O08SvOVXqmuxfyZmp-lMM3ETsPvkZ/pub?gid=535577998&single=true&output=csv')\n",
        "df_sinasc_es_2012 = pd.read_csv('https://docs.google.com/spreadsheets/d/e/2PACX-1vRsmVmV6LY0nRKPr6MeqbNmH70iM20lPQdAmq0wNHJCRTxEGBzdM3cxgF6Ovd_mplD4RJ1EtCXBTAd6/pub?gid=1590264663&single=true&output=csv')\n",
        "\n",
        "df_sinasc_es_raw = pd.concat([df_sinasc_es_2016, df_sinasc_es_2015, df_sinasc_es_2014, df_sinasc_es_2013, df_sinasc_es_2012])\n",
        "\n",
        "## SIM\n",
        "df_sim_es_2016 = pd.read_csv('https://docs.google.com/spreadsheets/d/e/2PACX-1vR_MH3HjwGWD0icAnZ3LVxxKUIxYNgAE3R-m-P61g0T2iXE9bs3hjeItGKTJqIUslIOAFN7TrE2ghGM/pub?output=csv')\n",
        "df_sim_es_2015 = pd.read_csv('https://docs.google.com/spreadsheets/d/e/2PACX-1vSQAjV9c7HSRNciS8zQZFtlffe-X0V8Wcc5EAM9wqhVGPHnI3IpAaliYwadmK4nHiKPz9GbXn_-xNNC/pub?gid=817434201&single=true&output=csv')\n",
        "df_sim_es_2014 = pd.read_csv('https://docs.google.com/spreadsheets/d/e/2PACX-1vRGEAcKThbNaB9Kfp2vdoWZIMjUaVLwDF0Cf9_534xkV2iDWv4SZACgDBG7CnhzjXd_dCvwvadINdL1/pub?gid=1932938775&single=true&output=csv')\n",
        "df_sim_es_2013 = pd.read_csv('https://docs.google.com/spreadsheets/d/e/2PACX-1vRf-ecv5pdc0k2GR3SBdoCeZtRM6SPjSyQDFVwlUmzd8YsPVWPwZvx3ZnM8y_B5kBcFH-QxYIyTuYzr/pub?gid=1342589125&single=true&output=csv')\n",
        "df_sim_es_2012 = pd.read_csv('https://docs.google.com/spreadsheets/d/e/2PACX-1vS9XW4Hxc0QwEENpDDXLIBgDkyaTz89AXhgYYDcw7lHhBRjnLyQ2Y7B77fMV2LVmivKhSABYr-2fcFx/pub?gid=508819616&single=true&output=csv')\n",
        "\n",
        "df_sim_es_raw = pd.concat([df_sim_es_2016, df_sim_es_2015, df_sim_es_2014, df_sim_es_2013, df_sim_es_2012])\n"
      ],
      "execution_count": 2,
      "outputs": [
        {
          "output_type": "stream",
          "text": [
            "/usr/local/lib/python3.6/dist-packages/ipykernel_launcher.py:7: FutureWarning: Sorting because non-concatenation axis is not aligned. A future version\n",
            "of pandas will change to not sort by default.\n",
            "\n",
            "To accept the future behavior, pass 'sort=False'.\n",
            "\n",
            "To retain the current behavior and silence the warning, pass 'sort=True'.\n",
            "\n",
            "  import sys\n",
            "/usr/local/lib/python3.6/dist-packages/IPython/core/interactiveshell.py:2718: DtypeWarning: Columns (23) have mixed types. Specify dtype option on import or set low_memory=False.\n",
            "  interactivity=interactivity, compiler=compiler, result=result)\n",
            "/usr/local/lib/python3.6/dist-packages/ipykernel_launcher.py:16: FutureWarning: Sorting because non-concatenation axis is not aligned. A future version\n",
            "of pandas will change to not sort by default.\n",
            "\n",
            "To accept the future behavior, pass 'sort=False'.\n",
            "\n",
            "To retain the current behavior and silence the warning, pass 'sort=True'.\n",
            "\n",
            "  app.launch_new_instance()\n"
          ],
          "name": "stderr"
        }
      ]
    },
    {
      "metadata": {
        "id": "ToKiE1WRnW9y",
        "colab_type": "code",
        "colab": {}
      },
      "cell_type": "code",
      "source": [
        "# Merge datasets"
      ],
      "execution_count": 0,
      "outputs": []
    },
    {
      "metadata": {
        "id": "NfC2sl5ynYZs",
        "colab_type": "code",
        "colab": {}
      },
      "cell_type": "code",
      "source": [
        "## migrar dados do SIM para SINASC = \"left\", usando \"NUMERODN\"\n",
        "df_merged_left_raw = pd.merge(df_sinasc_es_raw, df_sim_es_raw, how='left', on = 'NUMERODN')\n",
        "\n",
        "## intersecção entre SINASC E SIM = \"inner\", usando \"NUMERODN\"\n",
        "df_merged_inner_raw = pd.merge(df_sinasc_es_raw, df_sim_es_raw, how='inner', on = 'NUMERODN')\n",
        "\n",
        "## integração entre SINASC e SIM = \"outer\", usando \"NUMERODN\"\n",
        "df_merged_outer_raw = pd.merge(df_sinasc_es_raw, df_sim_es_raw, how='outer', on = 'NUMERODN', indicator=True)"
      ],
      "execution_count": 0,
      "outputs": []
    },
    {
      "metadata": {
        "id": "lHsz9dv_q8Di",
        "colab_type": "code",
        "colab": {
          "base_uri": "https://localhost:8080/",
          "height": 54
        },
        "outputId": "3d1084af-680b-449c-c85f-0cc8fd48314e"
      },
      "cell_type": "code",
      "source": [
        "## verificar colunas da integração\n",
        "col = df_merged_outer_raw.columns.tolist()\n",
        "print(col)\n"
      ],
      "execution_count": 13,
      "outputs": [
        {
          "output_type": "stream",
          "text": [
            "['APGAR1', 'APGAR5', 'CODANOMAL', 'CODCART_x', 'CODESTAB_x', 'CODINST_x', 'CODMUNCART_x', 'CODMUNNASC', 'CODMUNNATU_x', 'CODMUNRES_x', 'CODOCUPMAE', 'CODPAISRES', 'CODUFNATU', 'CONSPRENAT', 'CONSULTAS', 'DIFDATA_x', 'DTCADASTRO_x', 'DTDECLARAC', 'DTNASC_x', 'DTNASCMAE', 'DTRECEBIM_x', 'DTRECORIG_x', 'DTRECORIGA_x', 'DTREGCART_x', 'DTULTMENST', 'ESCMAE_x', 'ESCMAE2010_x', 'ESCMAEAGR1_x', 'ESTCIVMAE', 'GESTACAO_x', 'GRAVIDEZ_x', 'HORANASC', 'IDADEMAE_x', 'IDADEPAI', 'IDANOMAL', 'KOTELCHUCK', 'LOCNASC', 'MESPRENAT', 'NATURALMAE', 'NUMERODN', 'NUMERODV_x', 'NUMEROLOTE_x', 'NUMREGCART_x', 'ORIGEM_x', 'PARIDADE', 'PARTO_x', 'PESO_x', 'PREFIXODN', 'QTDFILMORT_x', 'QTDFILVIVO_x', 'QTDGESTANT', 'QTDPARTCES', 'QTDPARTNOR', 'RACACOR_x', 'RACACORMAE', 'RACACORN', 'SEMAGESTAC_x', 'SERIESCMAE_x', 'SEXO_x', 'STCESPARTO', 'STDNEPIDEM', 'STDNNOVA', 'STTRABPART', 'TPAPRESENT', 'TPDOCRESP', 'TPFUNCRESP', 'TPMETESTIM', 'TPNASCASSI', 'TPROBSON', 'Unnamed: 0_x', 'VERSAOSIST_x', 'ACIDTRAB', 'ALTCAUSA', 'ASSISTMED', 'ATESTADO', 'ATESTANTE', 'CAUSABAS', 'CAUSABAS_O', 'CAUSAMAT', 'CB_PRE', 'CIRCOBITO', 'CIRURGIA', 'CODCART_y', 'CODESTAB_y', 'CODIFICADO', 'CODINST_y', 'CODMUNCART_y', 'CODMUNNATU_y', 'CODMUNOCOR', 'CODMUNRES_y', 'COMUNSVOIM', 'CRM', 'DIFDATA_y', 'DTATESTADO', 'DTCADASTRO_y', 'DTCADINF', 'DTCADINV', 'DTCONCASO', 'DTCONINV', 'DTINVESTIG', 'DTNASC_y', 'DTOBITO', 'DTRECEBIM_y', 'DTRECORIG_y', 'DTRECORIGA_y', 'DTREGCART_y', 'ESC', 'ESC2010', 'ESCFALAGR1', 'ESCMAE_y', 'ESCMAE2010_y', 'ESCMAEAGR1_y', 'ESTABDESCR', 'ESTCIV', 'EXAME', 'FONTE', 'FONTEINV', 'FONTES', 'FONTESINF', 'GESTACAO_y', 'GRAVIDEZ_y', 'HORAOBITO', 'IDADE', 'IDADEMAE_y', 'LINHAA', 'LINHAB', 'LINHAC', 'LINHAD', 'LINHAII', 'LOCOCOR', 'MORTEPARTO', 'NATURAL', 'NECROPSIA', 'NUDIASINF', 'NUDIASOBCO', 'NUDIASOBIN', 'NUMERODO', 'NUMERODV_y', 'NUMEROLOTE_y', 'NUMREGCART_y', 'NUMSUS', 'OBITOGRAV', 'OBITOPARTO', 'OBITOPUERP', 'OCUP', 'OCUPMAE', 'ORIGEM_y', 'PARTO_y', 'PESO_y', 'QTDFILMORT_y', 'QTDFILVIVO_y', 'RACACOR_y', 'SEMAGESTAC_y', 'SERIESCFAL', 'SERIESCMAE_y', 'SEXO_y', 'STCODIFICA', 'STDOEPIDEM', 'STDONOVA', 'TIPOBITO', 'TPMORTEOCO', 'TPNIVELINV', 'TPOBITOCOR', 'TPPOS', 'TPRESGINFO', 'Unnamed: 0_y', 'VERSAOSCB', 'VERSAOSIST_y', '_merge']\n"
          ],
          "name": "stdout"
        }
      ]
    },
    {
      "metadata": {
        "id": "s84jpW8_oIEW",
        "colab_type": "code",
        "colab": {
          "base_uri": "https://localhost:8080/",
          "height": 34
        },
        "outputId": "f09c8ef8-7c1a-4677-e80c-a747441d065f"
      },
      "cell_type": "code",
      "source": [
        "# Mortalidade geral-infantil\n",
        "(len(df_sim_es_raw[df_sim_es_raw['IDADE']<=1]['IDADE']))/(len(df_sinasc_es_raw))"
      ],
      "execution_count": 14,
      "outputs": [
        {
          "output_type": "execute_result",
          "data": {
            "text/plain": [
              "0.00011322050240684874"
            ]
          },
          "metadata": {
            "tags": []
          },
          "execution_count": 14
        }
      ]
    },
    {
      "metadata": {
        "id": "_7tDzXuzozPz",
        "colab_type": "code",
        "colab": {
          "base_uri": "https://localhost:8080/",
          "height": 34
        },
        "outputId": "ab0c0671-8fd4-4fb6-8b6f-793c45be63cf"
      },
      "cell_type": "code",
      "source": [
        "# Mortalidade SINASC-SIM\n",
        "(len(df_merged_inner_raw))/(len(df_sinasc_es_raw))"
      ],
      "execution_count": 11,
      "outputs": [
        {
          "output_type": "execute_result",
          "data": {
            "text/plain": [
              "0.005251970401969307"
            ]
          },
          "metadata": {
            "tags": []
          },
          "execution_count": 11
        }
      ]
    }
  ]
}