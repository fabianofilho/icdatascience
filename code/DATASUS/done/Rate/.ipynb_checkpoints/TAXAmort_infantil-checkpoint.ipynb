{
 "cells": [
  {
   "cell_type": "markdown",
   "metadata": {
    "colab_type": "text",
    "id": "15V9K78w77Jg"
   },
   "source": [
    "# Mortalidade Infantil"
   ]
  },
  {
   "cell_type": "markdown",
   "metadata": {
    "colab_type": "text",
    "id": "xTqQLDo68M7a"
   },
   "source": [
    "## Comparação entre a taxa de mortalidade publicada e a taxa de mortalidade nos \"matches\" DN-DO"
   ]
  },
  {
   "cell_type": "markdown",
   "metadata": {
    "colab_type": "text",
    "id": "LoxMHFYC8D8h"
   },
   "source": [
    "[Cálculo da taxa](http://tabnet.datasus.gov.br/cgi/idb1997/mort/fqc02.htm) = **número de óbitos em menores de um ano (no ano calculado) / número de nascidos vivos (no ano calculado)**\n",
    "\n",
    "[Taxa publicada no Espírito Santo](https://saude.es.gov.br/Media/sesa/Relatorio%20de%20gestao/Balanco_de_Gestao_Ricardo_de_Oliveira.pdf)\n",
    "* 2017 = 10,62\n",
    "* 2016 = 11,66\n",
    "* 2015 = 11,34\n",
    "* 2014 = 11,3\n",
    "* 2013 =  10,89\n",
    "* 2012 = 11,31\n",
    "\n",
    "\n",
    "\n"
   ]
  },
  {
   "cell_type": "markdown",
   "metadata": {
    "colab_type": "text",
    "id": "9kO4dGUHBsB9"
   },
   "source": [
    "### Usaremos o pandas para fazer a importação do banco de dados (dataframe)"
   ]
  },
  {
   "cell_type": "code",
   "execution_count": 0,
   "metadata": {
    "colab": {},
    "colab_type": "code",
    "id": "uO9auMtIBmSQ"
   },
   "outputs": [],
   "source": [
    "import pandas as pd"
   ]
  },
  {
   "cell_type": "markdown",
   "metadata": {
    "colab_type": "text",
    "id": "gZ8lUCHSBVK3"
   },
   "source": [
    "## Ano de 2016"
   ]
  },
  {
   "cell_type": "markdown",
   "metadata": {
    "colab_type": "text",
    "id": "jcIYUAuAC0X3"
   },
   "source": [
    "### Baixar banco de dados"
   ]
  },
  {
   "cell_type": "code",
   "execution_count": 0,
   "metadata": {
    "colab": {},
    "colab_type": "code",
    "id": "lcpEcjsyBpK3"
   },
   "outputs": [],
   "source": [
    "df_sinasc_es_2016 = pd.read_csv('')\n",
    "\n",
    "df_sim_es_2016 = pd.read_csv('https://docs.google.com/spreadsheets/d/e/2PACX-1vR_MH3HjwGWD0icAnZ3LVxxKUIxYNgAE3R-m-P61g0T2iXE9bs3hjeItGKTJqIUslIOAFN7TrE2ghGM/pub?output=csv')\n"
   ]
  },
  {
   "cell_type": "markdown",
   "metadata": {
    "colab_type": "text",
    "id": "IhbxDSypCwoX"
   },
   "source": [
    "### Intersecção"
   ]
  },
  {
   "cell_type": "code",
   "execution_count": 0,
   "metadata": {
    "colab": {},
    "colab_type": "code",
    "id": "VT40ZtXuC3sk"
   },
   "outputs": [],
   "source": [
    "columns_intersection = df_sinasc_es.columns.intersection(df_sim_es.columns)\n",
    "columns_intersection"
   ]
  },
  {
   "cell_type": "markdown",
   "metadata": {
    "colab_type": "text",
    "id": "kMrTCfoHC5JE"
   },
   "source": [
    "### Junção de Tabelas (left) = do sim para o SINASC\n",
    "\n",
    "```\n",
    "# This is formatted as code\n",
    "```\n",
    "\n"
   ]
  },
  {
   "cell_type": "markdown",
   "metadata": {
    "colab_type": "text",
    "id": "vRrLLHV-BbTJ"
   },
   "source": [
    "## Ano de 2015"
   ]
  },
  {
   "cell_type": "code",
   "execution_count": 0,
   "metadata": {
    "colab": {},
    "colab_type": "code",
    "id": "0BPAl8KqB_eW"
   },
   "outputs": [],
   "source": [
    "df_sinasc_es_2015 = pd.read_csv('')\n",
    "\n",
    "df_sim_es_2015 = pd.read_csv('')\n"
   ]
  },
  {
   "cell_type": "markdown",
   "metadata": {
    "colab_type": "text",
    "id": "FbZG9zd4BgLc"
   },
   "source": [
    "## Ano de 2014\n"
   ]
  },
  {
   "cell_type": "code",
   "execution_count": 0,
   "metadata": {
    "colab": {},
    "colab_type": "code",
    "id": "RpI2GdzyCBHR"
   },
   "outputs": [],
   "source": [
    "df_sinasc_es_2014 = pd.read_csv('')\n",
    "\n",
    "df_sim_es_2014 = pd.read_csv('')\n"
   ]
  },
  {
   "cell_type": "markdown",
   "metadata": {
    "colab_type": "text",
    "id": "kNyfUloVBgc_"
   },
   "source": [
    "## Ano de 2013"
   ]
  },
  {
   "cell_type": "code",
   "execution_count": 0,
   "metadata": {
    "colab": {},
    "colab_type": "code",
    "id": "aSA4ysyECCdI"
   },
   "outputs": [],
   "source": [
    "df_sinasc_es_2013 = pd.read_csv('')\n",
    "\n",
    "df_sim_es_2013 = pd.read_csv('')\n"
   ]
  },
  {
   "cell_type": "markdown",
   "metadata": {
    "colab_type": "text",
    "id": "qZhmL0iZBgtl"
   },
   "source": [
    "## Ano de 2012\n"
   ]
  },
  {
   "cell_type": "code",
   "execution_count": 0,
   "metadata": {
    "colab": {},
    "colab_type": "code",
    "id": "2Tzlbl-xCEkQ"
   },
   "outputs": [],
   "source": [
    "df_sinasc_es_2012 = pd.read_csv('')\n",
    "df_sim_es_2012 = pd.read_csv('')\n"
   ]
  }
 ],
 "metadata": {
  "colab": {
   "name": "TAXAmort-infantil.ipynb",
   "provenance": [],
   "version": "0.3.2"
  },
  "kernelspec": {
   "display_name": "Python 2",
   "language": "python",
   "name": "python2"
  },
  "language_info": {
   "codemirror_mode": {
    "name": "ipython",
    "version": 2
   },
   "file_extension": ".py",
   "mimetype": "text/x-python",
   "name": "python",
   "nbconvert_exporter": "python",
   "pygments_lexer": "ipython2",
   "version": "2.7.15"
  }
 },
 "nbformat": 4,
 "nbformat_minor": 1
}
