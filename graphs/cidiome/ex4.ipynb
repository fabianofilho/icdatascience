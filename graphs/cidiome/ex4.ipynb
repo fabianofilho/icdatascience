{
  "nbformat": 4,
  "nbformat_minor": 0,
  "metadata": {
    "colab": {
      "name": "aula-1-4.ipynb",
      "version": "0.3.2",
      "provenance": [],
      "collapsed_sections": []
    },
    "kernelspec": {
      "name": "python3",
      "display_name": "Python 3"
    }
  },
  "cells": [
    {
      "cell_type": "markdown",
      "metadata": {
        "id": "NKKWMGKxmJJD",
        "colab_type": "text"
      },
      "source": [
        "## Importação de Módulos"
      ]
    },
    {
      "cell_type": "code",
      "metadata": {
        "id": "dRdCEA1LmE5w",
        "colab_type": "code",
        "colab": {}
      },
      "source": [
        "import networkx as nx\n",
        "import matplotlib.pyplot as plt"
      ],
      "execution_count": 0,
      "outputs": []
    },
    {
      "cell_type": "markdown",
      "metadata": {
        "id": "NLwXQCgqmPee",
        "colab_type": "text"
      },
      "source": [
        "## Criação de Grafo"
      ]
    },
    {
      "cell_type": "code",
      "metadata": {
        "id": "bG8W9KSLmWWU",
        "colab_type": "code",
        "colab": {}
      },
      "source": [
        "G = nx.Graph()"
      ],
      "execution_count": 0,
      "outputs": []
    },
    {
      "cell_type": "code",
      "metadata": {
        "id": "E1mhlZPjmOX0",
        "colab_type": "code",
        "colab": {}
      },
      "source": [
        "# adiciona uma lista de arestas em um único comando\n",
        "G.add_edges_from([\n",
        "    ('A', 'B'),    \n",
        "    ('B', 'C'),    \n",
        "    ('B', 'F'),    \n",
        "    ('C', 'D'),    \n",
        "    ('C', 'E'),    \n",
        "    ('D', 'E'),    \n",
        "    ('D', 'F'),\n",
        "    ('D', 'G'),\n",
        "    ('E', 'T'),    \n",
        "    ('F', 'G'),    \n",
        "    ('G', 'T')    \n",
        "    ])"
      ],
      "execution_count": 0,
      "outputs": []
    },
    {
      "cell_type": "markdown",
      "metadata": {
        "id": "s1b4vujjmcJE",
        "colab_type": "text"
      },
      "source": [
        "## Operações de Grafo"
      ]
    },
    {
      "cell_type": "markdown",
      "metadata": {
        "id": "KfTxcvGvmgMQ",
        "colab_type": "text"
      },
      "source": [
        "Nós do grafo G:"
      ]
    },
    {
      "cell_type": "code",
      "metadata": {
        "id": "zKNZmx50mfS1",
        "colab_type": "code",
        "colab": {
          "base_uri": "https://localhost:8080/",
          "height": 34
        },
        "outputId": "9d84543e-93e1-4dc4-d2a4-f278f61af499"
      },
      "source": [
        "G.nodes()"
      ],
      "execution_count": 5,
      "outputs": [
        {
          "output_type": "execute_result",
          "data": {
            "text/plain": [
              "NodeView(('A', 'B', 'C', 'F', 'D', 'E', 'G', 'T'))"
            ]
          },
          "metadata": {
            "tags": []
          },
          "execution_count": 5
        }
      ]
    },
    {
      "cell_type": "markdown",
      "metadata": {
        "id": "9eJv_RIBmjw4",
        "colab_type": "text"
      },
      "source": [
        "Arestas do grafo G:"
      ]
    },
    {
      "cell_type": "code",
      "metadata": {
        "id": "6l4ZPHXomTca",
        "colab_type": "code",
        "colab": {
          "base_uri": "https://localhost:8080/",
          "height": 54
        },
        "outputId": "be3e0d3e-dbf2-4e6c-c339-7d20126882d3"
      },
      "source": [
        "G.edges()"
      ],
      "execution_count": 6,
      "outputs": [
        {
          "output_type": "execute_result",
          "data": {
            "text/plain": [
              "EdgeView([('A', 'B'), ('B', 'C'), ('B', 'F'), ('C', 'D'), ('C', 'E'), ('F', 'D'), ('F', 'G'), ('D', 'E'), ('D', 'G'), ('E', 'T'), ('G', 'T')])"
            ]
          },
          "metadata": {
            "tags": []
          },
          "execution_count": 6
        }
      ]
    },
    {
      "cell_type": "markdown",
      "metadata": {
        "id": "MnbUt5jhmr0f",
        "colab_type": "text"
      },
      "source": [
        "Caminho Mínimo entre 'A' e 'T':\n"
      ]
    },
    {
      "cell_type": "code",
      "metadata": {
        "id": "HiG4i-MEmnRc",
        "colab_type": "code",
        "colab": {
          "base_uri": "https://localhost:8080/",
          "height": 34
        },
        "outputId": "5834af51-45e6-4b40-d579-848b47aa0862"
      },
      "source": [
        "nx.dijkstra_path(G,'A','T')"
      ],
      "execution_count": 7,
      "outputs": [
        {
          "output_type": "execute_result",
          "data": {
            "text/plain": [
              "['A', 'B', 'C', 'E', 'T']"
            ]
          },
          "metadata": {
            "tags": []
          },
          "execution_count": 7
        }
      ]
    },
    {
      "cell_type": "markdown",
      "metadata": {
        "id": "DqW6Vib1mzcz",
        "colab_type": "text"
      },
      "source": [
        "## Visualização"
      ]
    },
    {
      "cell_type": "code",
      "metadata": {
        "id": "ORvCWS8emxiX",
        "colab_type": "code",
        "colab": {
          "base_uri": "https://localhost:8080/",
          "height": 319
        },
        "outputId": "a4fe501b-3013-4bc6-f1cd-d6fc20d6dbc6"
      },
      "source": [
        "nx.draw(G, with_labels = True)\n",
        "plt.show()"
      ],
      "execution_count": 8,
      "outputs": [
        {
          "output_type": "display_data",
          "data": {
            "image/png": "[encoded data removed]",
            "text/plain": [
              "<Figure size 432x288 with 1 Axes>"
            ]
          },
          "metadata": {
            "tags": []
          }
        }
      ]
    },
    {
      "cell_type": "code",
      "metadata": {
        "id": "aXSzOYVzm1U5",
        "colab_type": "code",
        "colab": {}
      },
      "source": [
        ""
      ],
      "execution_count": 0,
      "outputs": []
    }
  ]
}