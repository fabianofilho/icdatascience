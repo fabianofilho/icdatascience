{
  "nbformat": 4,
  "nbformat_minor": 0,
  "metadata": {
    "colab": {
      "name": "aula-1-5.ipynb",
      "version": "0.3.2",
      "provenance": []
    },
    "kernelspec": {
      "name": "python3",
      "display_name": "Python 3"
    }
  },
  "cells": [
    {
      "cell_type": "markdown",
      "metadata": {
        "id": "pAqpTjF8m_jK",
        "colab_type": "text"
      },
      "source": [
        "## Importação de Módulos"
      ]
    },
    {
      "cell_type": "code",
      "metadata": {
        "id": "DjOORPyxm9PP",
        "colab_type": "code",
        "colab": {}
      },
      "source": [
        "import networkx as nx\n",
        "import matplotlib.pyplot as plt"
      ],
      "execution_count": 0,
      "outputs": []
    },
    {
      "cell_type": "markdown",
      "metadata": {
        "id": "oMFv6RexnFEs",
        "colab_type": "text"
      },
      "source": [
        "## Criação de Grafo"
      ]
    },
    {
      "cell_type": "code",
      "metadata": {
        "id": "e6JLw_tvnEHS",
        "colab_type": "code",
        "colab": {}
      },
      "source": [
        "G = nx.Graph()"
      ],
      "execution_count": 0,
      "outputs": []
    },
    {
      "cell_type": "code",
      "metadata": {
        "id": "Z9oEbUBInKZs",
        "colab_type": "code",
        "colab": {
          "base_uri": "https://localhost:8080/",
          "height": 201
        },
        "outputId": "0cec2c29-ddcb-4876-e405-55343b14c0d4"
      },
      "source": [
        "f = open('grafo.txt')    # open the example file\n",
        "lines = f.readlines()    # read lines of file and stores in lines var."
      ],
      "execution_count": 3,
      "outputs": [
        {
          "output_type": "error",
          "ename": "FileNotFoundError",
          "evalue": "ignored",
          "traceback": [
            "\u001b[0;31m---------------------------------------------------------------------------\u001b[0m",
            "\u001b[0;31mFileNotFoundError\u001b[0m                         Traceback (most recent call last)",
            "\u001b[0;32m<ipython-input-3-5d7e8a9b051f>\u001b[0m in \u001b[0;36m<module>\u001b[0;34m()\u001b[0m\n\u001b[0;32m----> 1\u001b[0;31m \u001b[0mf\u001b[0m \u001b[0;34m=\u001b[0m \u001b[0mopen\u001b[0m\u001b[0;34m(\u001b[0m\u001b[0;34m'grafo.txt'\u001b[0m\u001b[0;34m)\u001b[0m    \u001b[0;31m# open the example file\u001b[0m\u001b[0;34m\u001b[0m\u001b[0;34m\u001b[0m\u001b[0m\n\u001b[0m\u001b[1;32m      2\u001b[0m \u001b[0mlines\u001b[0m \u001b[0;34m=\u001b[0m \u001b[0mf\u001b[0m\u001b[0;34m.\u001b[0m\u001b[0mreadlines\u001b[0m\u001b[0;34m(\u001b[0m\u001b[0;34m)\u001b[0m    \u001b[0;31m# read lines of file and stores in lines var.\u001b[0m\u001b[0;34m\u001b[0m\u001b[0;34m\u001b[0m\u001b[0m\n",
            "\u001b[0;31mFileNotFoundError\u001b[0m: [Errno 2] No such file or directory: 'grafo.txt'"
          ]
        }
      ]
    },
    {
      "cell_type": "code",
      "metadata": {
        "id": "hB5x7gf9nMLV",
        "colab_type": "code",
        "colab": {
          "base_uri": "https://localhost:8080/",
          "height": 252
        },
        "outputId": "588fa8a4-4a9f-4881-d730-9162b5883b7b"
      },
      "source": [
        "# for each line in variable 'lines' do...\n",
        "for line in lines:\n",
        "    # string manipulation:\n",
        "    #    1) split('\\t'): separates the current line in columns ('\\t' separator)\n",
        "    #    2) strip(): removes white chars from each column element\n",
        "    #                (ex: '\\n', white spaces, etc)\n",
        "    fields = line.strip().split('\\t')\n",
        "    # Exercise 1: put some code here to dealing exception, like *empty lines*\n",
        "    # Exercise 2: explain why an empty line will generate an error (index out of bounds).\n",
        "    #\n",
        "    # retrieve the first and the second column for each line\n",
        "    u = fields[0]\n",
        "    v = fields[1]\n",
        "    # adds the edge (u,v) to the graph \n",
        "    G.add_edge(u,v)\n",
        "\n",
        "# after reading everything, closes the file.\n",
        "f.close()\n"
      ],
      "execution_count": 4,
      "outputs": [
        {
          "output_type": "error",
          "ename": "NameError",
          "evalue": "ignored",
          "traceback": [
            "\u001b[0;31m---------------------------------------------------------------------------\u001b[0m",
            "\u001b[0;31mNameError\u001b[0m                                 Traceback (most recent call last)",
            "\u001b[0;32m<ipython-input-4-ba064799b81d>\u001b[0m in \u001b[0;36m<module>\u001b[0;34m()\u001b[0m\n\u001b[0;32m----> 1\u001b[0;31m \u001b[0;32mfor\u001b[0m \u001b[0mline\u001b[0m \u001b[0;32min\u001b[0m \u001b[0mlines\u001b[0m\u001b[0;34m:\u001b[0m\u001b[0;34m\u001b[0m\u001b[0;34m\u001b[0m\u001b[0m\n\u001b[0m\u001b[1;32m      2\u001b[0m     \u001b[0;31m# string manipulation:\u001b[0m\u001b[0;34m\u001b[0m\u001b[0;34m\u001b[0m\u001b[0;34m\u001b[0m\u001b[0m\n\u001b[1;32m      3\u001b[0m     \u001b[0;31m#    1) split('\\t'): separates the current line in columns ('\\t' separator)\u001b[0m\u001b[0;34m\u001b[0m\u001b[0;34m\u001b[0m\u001b[0;34m\u001b[0m\u001b[0m\n\u001b[1;32m      4\u001b[0m     \u001b[0;31m#    2) strip(): removes white chars from each column element\u001b[0m\u001b[0;34m\u001b[0m\u001b[0;34m\u001b[0m\u001b[0;34m\u001b[0m\u001b[0m\n\u001b[1;32m      5\u001b[0m     \u001b[0;31m#                (ex: '\\n', white spaces, etc)\u001b[0m\u001b[0;34m\u001b[0m\u001b[0;34m\u001b[0m\u001b[0;34m\u001b[0m\u001b[0m\n",
            "\u001b[0;31mNameError\u001b[0m: name 'lines' is not defined"
          ]
        }
      ]
    },
    {
      "cell_type": "markdown",
      "metadata": {
        "id": "CwkR6eQnnUTz",
        "colab_type": "text"
      },
      "source": [
        "## Operações de Grafo"
      ]
    },
    {
      "cell_type": "markdown",
      "metadata": {
        "id": "yfAqSD_6nXOS",
        "colab_type": "text"
      },
      "source": [
        "Nós do grafo G:"
      ]
    },
    {
      "cell_type": "code",
      "metadata": {
        "id": "sf-9QXr5nRic",
        "colab_type": "code",
        "colab": {
          "base_uri": "https://localhost:8080/",
          "height": 34
        },
        "outputId": "0c9a1e9c-4644-4123-fd67-56589d0e0dab"
      },
      "source": [
        "G.nodes()"
      ],
      "execution_count": 5,
      "outputs": [
        {
          "output_type": "execute_result",
          "data": {
            "text/plain": [
              "NodeView(())"
            ]
          },
          "metadata": {
            "tags": []
          },
          "execution_count": 5
        }
      ]
    },
    {
      "cell_type": "markdown",
      "metadata": {
        "id": "3DlM92tHnbS4",
        "colab_type": "text"
      },
      "source": [
        "Arestas do grafo G:"
      ]
    },
    {
      "cell_type": "code",
      "metadata": {
        "id": "ELfaC7qsnaez",
        "colab_type": "code",
        "colab": {
          "base_uri": "https://localhost:8080/",
          "height": 34
        },
        "outputId": "0cacc8ce-2a6b-4a8c-9328-0ca3132eb020"
      },
      "source": [
        "G.edges()"
      ],
      "execution_count": 6,
      "outputs": [
        {
          "output_type": "execute_result",
          "data": {
            "text/plain": [
              "EdgeView([])"
            ]
          },
          "metadata": {
            "tags": []
          },
          "execution_count": 6
        }
      ]
    },
    {
      "cell_type": "markdown",
      "metadata": {
        "id": "motnzIUFnf7g",
        "colab_type": "text"
      },
      "source": [
        "## Visualização"
      ]
    },
    {
      "cell_type": "code",
      "metadata": {
        "id": "oBtaJN45neel",
        "colab_type": "code",
        "colab": {
          "base_uri": "https://localhost:8080/",
          "height": 319
        },
        "outputId": "6e67ed67-d24d-442c-82ba-2981fb73a8bf"
      },
      "source": [
        "nx.draw(G, with_labels = True)\n",
        "plt.show()"
      ],
      "execution_count": 7,
      "outputs": [
        {
          "output_type": "display_data",
          "data": {
            "image/png": "[encoded data removed]",
            "text/plain": [
              "<Figure size 432x288 with 1 Axes>"
            ]
          },
          "metadata": {
            "tags": []
          }
        }
      ]
    },
    {
      "cell_type": "code",
      "metadata": {
        "id": "plEpwp8Sninl",
        "colab_type": "code",
        "colab": {}
      },
      "source": [
        ""
      ],
      "execution_count": 0,
      "outputs": []
    }
  ]
}