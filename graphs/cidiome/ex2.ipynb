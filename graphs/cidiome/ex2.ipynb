{
  "nbformat": 4,
  "nbformat_minor": 0,
  "metadata": {
    "colab": {
      "name": "aula1-2.ipynb",
      "version": "0.3.2",
      "provenance": [],
      "collapsed_sections": []
    },
    "kernelspec": {
      "name": "python3",
      "display_name": "Python 3"
    }
  },
  "cells": [
    {
      "cell_type": "markdown",
      "metadata": {
        "id": "E4Xsza3jkAyT",
        "colab_type": "text"
      },
      "source": [
        "## Importação de Módulos"
      ]
    },
    {
      "cell_type": "code",
      "metadata": {
        "id": "6vXgAS7tiMeH",
        "colab_type": "code",
        "colab": {}
      },
      "source": [
        "import networkx as nx\n",
        "import matplotlib.pyplot as plt"
      ],
      "execution_count": 0,
      "outputs": []
    },
    {
      "cell_type": "markdown",
      "metadata": {
        "id": "O8U7tDndkFRL",
        "colab_type": "text"
      },
      "source": [
        "## Criação de Grafos"
      ]
    },
    {
      "cell_type": "code",
      "metadata": {
        "id": "utkG5S1uiVgb",
        "colab_type": "code",
        "colab": {}
      },
      "source": [
        "G = nx.Graph()"
      ],
      "execution_count": 0,
      "outputs": []
    },
    {
      "cell_type": "code",
      "metadata": {
        "id": "b89xSEjjifo0",
        "colab_type": "code",
        "colab": {}
      },
      "source": [
        "edges = [('a','b',0.3),('b','c',0.9),('a','c',0.5),('c','d',1.2)]"
      ],
      "execution_count": 0,
      "outputs": []
    },
    {
      "cell_type": "code",
      "metadata": {
        "id": "NRqNMi8AihYZ",
        "colab_type": "code",
        "colab": {}
      },
      "source": [
        "# cria arestas com pesos\n",
        "G.add_weighted_edges_from(edges)"
      ],
      "execution_count": 0,
      "outputs": []
    },
    {
      "cell_type": "markdown",
      "metadata": {
        "id": "ObWr5MZQkW2_",
        "colab_type": "text"
      },
      "source": [
        "## Visualização"
      ]
    },
    {
      "cell_type": "code",
      "metadata": {
        "id": "72aGhl7KijUm",
        "colab_type": "code",
        "outputId": "0df4e7a0-22df-49dc-dcd4-0f04ac1354f0",
        "colab": {
          "base_uri": "https://localhost:8080/",
          "height": 319
        }
      },
      "source": [
        "# plota o grafo\n",
        "nx.draw(G, with_labels = True)\n",
        "plt.show()"
      ],
      "execution_count": 0,
      "outputs": [
        {
          "output_type": "display_data",
          "data": {
            "image/png": "[encoded data removed]",
            "text/plain": [
              "<Figure size 432x288 with 1 Axes>"
            ]
          },
          "metadata": {
            "tags": []
          }
        }
      ]
    },
    {
      "cell_type": "markdown",
      "metadata": {
        "id": "OfN15Xmpka9N",
        "colab_type": "text"
      },
      "source": [
        "## Operações de Grafos"
      ]
    },
    {
      "cell_type": "markdown",
      "metadata": {
        "id": "2V-CM5mQknrr",
        "colab_type": "text"
      },
      "source": [
        "Nós do grafo G:"
      ]
    },
    {
      "cell_type": "code",
      "metadata": {
        "id": "jMxN-z3VjRML",
        "colab_type": "code",
        "colab": {
          "base_uri": "https://localhost:8080/",
          "height": 34
        },
        "outputId": "2fabfedf-ae76-47cf-fdd9-b9922be23f97"
      },
      "source": [
        "G.nodes()"
      ],
      "execution_count": 17,
      "outputs": [
        {
          "output_type": "execute_result",
          "data": {
            "text/plain": [
              "NodeView(('a', 'b', 'c', 'd'))"
            ]
          },
          "metadata": {
            "tags": []
          },
          "execution_count": 17
        }
      ]
    },
    {
      "cell_type": "markdown",
      "metadata": {
        "id": "15YAI8RCk2-w",
        "colab_type": "text"
      },
      "source": [
        "Arestas do grafo G:"
      ]
    },
    {
      "cell_type": "code",
      "metadata": {
        "id": "Nqy2z9Dwk44U",
        "colab_type": "code",
        "colab": {
          "base_uri": "https://localhost:8080/",
          "height": 34
        },
        "outputId": "6f2a17ac-74ee-454d-8312-96962f9ccfe2"
      },
      "source": [
        "G.edges()"
      ],
      "execution_count": 18,
      "outputs": [
        {
          "output_type": "execute_result",
          "data": {
            "text/plain": [
              "EdgeView([('a', 'b'), ('a', 'c'), ('b', 'c'), ('c', 'd')])"
            ]
          },
          "metadata": {
            "tags": []
          },
          "execution_count": 18
        }
      ]
    },
    {
      "cell_type": "markdown",
      "metadata": {
        "id": "y2-dezv9k9av",
        "colab_type": "text"
      },
      "source": [
        "Caminho mínino entra 'a' e 'd':"
      ]
    },
    {
      "cell_type": "code",
      "metadata": {
        "id": "OvrKP0L8lFHE",
        "colab_type": "code",
        "colab": {
          "base_uri": "https://localhost:8080/",
          "height": 34
        },
        "outputId": "a424229b-10df-4f8b-eaa1-883d9c2fafca"
      },
      "source": [
        "nx.dijkstra_path(G,'a','d')"
      ],
      "execution_count": 20,
      "outputs": [
        {
          "output_type": "execute_result",
          "data": {
            "text/plain": [
              "['a', 'c', 'd']"
            ]
          },
          "metadata": {
            "tags": []
          },
          "execution_count": 20
        }
      ]
    },
    {
      "cell_type": "code",
      "metadata": {
        "id": "9yVvOvewlJKt",
        "colab_type": "code",
        "colab": {}
      },
      "source": [
        ""
      ],
      "execution_count": 0,
      "outputs": []
    }
  ]
}