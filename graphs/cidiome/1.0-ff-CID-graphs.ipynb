{
 "cells": [
  {
   "cell_type": "markdown",
   "metadata": {},
   "source": [
    "# Graphs test"
   ]
  },
  {
   "cell_type": "code",
   "execution_count": 1,
   "metadata": {},
   "outputs": [],
   "source": [
    "# módulo para manipulação de grafos\n",
    "import networkx as nx\n",
    "\n",
    "# módulo para visualização\n",
    "import matplotlib.pyplot as plt\n",
    "#import pylab as plt"
   ]
  },
  {
   "cell_type": "code",
   "execution_count": 2,
   "metadata": {},
   "outputs": [],
   "source": [
    "# cria um (objeto) grafo vazio\n",
    "G=nx.Graph()"
   ]
  },
  {
   "cell_type": "code",
   "execution_count": 3,
   "metadata": {},
   "outputs": [],
   "source": [
    "# adiciona nós e arestas\n",
    "G.add_edge(\"Node1\", \"Node2\")"
   ]
  },
  {
   "cell_type": "code",
   "execution_count": 4,
   "metadata": {},
   "outputs": [],
   "source": [
    "#adiciona nó\n",
    "G.add_node(\"Node3\")"
   ]
  },
  {
   "cell_type": "code",
   "execution_count": 10,
   "metadata": {},
   "outputs": [],
   "source": [
    "# adiciona uma lista de arestas em um único comando\n",
    "G.add_edges_from([\n",
    "    ('A', 'B'),    \n",
    "    ('A', 'C'),    \n",
    "    ('A', 'D'),    \n",
    "    ('B', 'E'),    \n",
    "    ('B', 'F'),    \n",
    "    ('C', 'F'),    \n",
    "    ('C', 'G'),    \n",
    "    ('D', 'G'),    \n",
    "    ('D', 'H'),\n",
    "    ('E', 'I'),    \n",
    "    ('F', 'I'),    \n",
    "    ('F', 'J'),    \n",
    "    ('G', 'J'),    \n",
    "    ('H', 'K'),    \n",
    "    ('I', 'L'),\n",
    "    ('J', 'L'),\n",
    "    ('K', 'L')\n",
    "    ])\n"
   ]
  },
  {
   "cell_type": "code",
   "execution_count": 11,
   "metadata": {},
   "outputs": [
    {
     "data": {
      "image/png": "[encoded data removed]",
      "text/plain": [
       "<Figure size 432x288 with 1 Axes>"
      ]
     },
     "metadata": {},
     "output_type": "display_data"
    }
   ],
   "source": [
    "# plota o grafo\n",
    "nx.draw(G, with_labels = True)\n",
    "plt.show()"
   ]
  },
  {
   "cell_type": "code",
   "execution_count": 6,
   "metadata": {},
   "outputs": [
    {
     "data": {
      "text/plain": [
       "<Figure size 432x288 with 0 Axes>"
      ]
     },
     "metadata": {},
     "output_type": "display_data"
    }
   ],
   "source": [
    "# salva uma imagem\n",
    "plt.savefig('grafo_aula-1-1.png')"
   ]
  },
  {
   "cell_type": "markdown",
   "metadata": {},
   "source": [
    "# CIDiome"
   ]
  },
  {
   "cell_type": "code",
   "execution_count": 8,
   "metadata": {},
   "outputs": [],
   "source": [
    "#Pandas para manusear Dataframes\n",
    "import pandas as pd"
   ]
  },
  {
   "cell_type": "code",
   "execution_count": 9,
   "metadata": {},
   "outputs": [
    {
     "name": "stderr",
     "output_type": "stream",
     "text": [
      "/Users/fb/miniconda2/envs/ds/lib/python3.7/site-packages/ipykernel_launcher.py:7: FutureWarning: Sorting because non-concatenation axis is not aligned. A future version\n",
      "of pandas will change to not sort by default.\n",
      "\n",
      "To accept the future behavior, pass 'sort=False'.\n",
      "\n",
      "To retain the current behavior and silence the warning, pass 'sort=True'.\n",
      "\n",
      "  import sys\n",
      "/Users/fb/miniconda2/envs/ds/lib/python3.7/site-packages/IPython/core/interactiveshell.py:3049: DtypeWarning: Columns (23) have mixed types. Specify dtype option on import or set low_memory=False.\n",
      "  interactivity=interactivity, compiler=compiler, result=result)\n",
      "/Users/fb/miniconda2/envs/ds/lib/python3.7/site-packages/ipykernel_launcher.py:15: FutureWarning: Sorting because non-concatenation axis is not aligned. A future version\n",
      "of pandas will change to not sort by default.\n",
      "\n",
      "To accept the future behavior, pass 'sort=False'.\n",
      "\n",
      "To retain the current behavior and silence the warning, pass 'sort=True'.\n",
      "\n",
      "  from ipykernel import kernelapp as app\n"
     ]
    }
   ],
   "source": [
    "#SINASC\n",
    "df_sinasc_es_2016 = pd.read_csv('http://bit.ly/df_sinasc_es_2016')\n",
    "df_sinasc_es_2015 = pd.read_csv('http://bit.ly/df_sinasc_es_2015')\n",
    "df_sinasc_es_2014 = pd.read_csv('http://bit.ly/df_sinasc_es_2014')\n",
    "df_sinasc_es_2013 = pd.read_csv('http://bit.ly/df_sinasc_es_2013')\n",
    "df_sinasc_es_2012 = pd.read_csv('http://bit.ly/df_sinasc_es_2012')\n",
    "df_sinasc_es = pd.concat([df_sinasc_es_2016, df_sinasc_es_2015, df_sinasc_es_2014, df_sinasc_es_2013, df_sinasc_es_2012])\n",
    "\n",
    "#SINASC\n",
    "df_sim_es_2016 = pd.read_csv('http://bit.ly/df_sim_es_2016')\n",
    "df_sim_es_2015 = pd.read_csv('http://bit.ly/df_sim_es_2015')\n",
    "df_sim_es_2014 = pd.read_csv('http://bit.ly/df_sim_es_2014')\n",
    "df_sim_es_2013 = pd.read_csv('http://bit.ly/df_sim_es_2013')\n",
    "df_sim_es_2012 = pd.read_csv('http://bit.ly/df_sim_es_2012')\n",
    "df_sim_es = pd.concat([df_sim_es_2016, df_sim_es_2015, df_sim_es_2014, df_sim_es_2013, df_sim_es_2012])\n",
    "\n",
    "#mortalidade infantil\n",
    "df_merged_left = pd.merge(df_sinasc_es, df_sim_es, how='left', on = 'NUMERODN')\n",
    "df_merged_inner = pd.merge(df_sinasc_es, df_sim_es, how='inner', on = 'NUMERODN')\n",
    "df_merged_outer = pd.merge(df_sinasc_es, df_sim_es, how='outer', on = 'NUMERODN', indicator=True)"
   ]
  },
  {
   "cell_type": "code",
   "execution_count": null,
   "metadata": {},
   "outputs": [],
   "source": [
    "# Transformar lista de variaveis na COLUNAS em txt\n",
    "## LINHAA, LINHAB, LINHAC, LINHAD, LINHAII, CAUSABAS. \n",
    "\n",
    "import csv\n",
    "with open('text.csv', 'w') as f:\n",
    "writer = csv.writer(f, delimiter='\\t')\n",
    "writer.writerows(zip(a,b))\n",
    "\n",
    "\n",
    "# Ler o txt\n",
    "f = open('grafo.txt') # open the example file\n",
    "lines = f.readlines() # read lines of file and stores in lines var."
   ]
  },
  {
   "cell_type": "code",
   "execution_count": null,
   "metadata": {},
   "outputs": [],
   "source": [
    "# for each line in variable 'lines' do...\n",
    "for line in lines:\n",
    "    # string manipulation:\n",
    "    #    1) split('\\t'): separates the current line in columns ('\\t' separator)\n",
    "    #    2) strip(): removes white chars from each column element\n",
    "    #                (ex: '\\n', white spaces, etc)\n",
    "    fields = line.strip().split('\\t')\n",
    "    # Exercise 1: put some code here to dealing exception, like *empty lines*\n",
    "    # Exercise 2: explain why an empty line will generate an error (index out of bounds).\n",
    "    #\n",
    "    # retrieve the first and the second column for each line\n",
    "    u = fields[0]\n",
    "    v = fields[1]\n",
    "    # adds the edge (u,v) to the graph \n",
    "    G.add_edge(u,v)\n",
    "\n",
    "# after reading everything, closes the file.\n",
    "f.close()"
   ]
  }
 ],
 "metadata": {
  "kernelspec": {
   "display_name": "Python 3",
   "language": "python",
   "name": "python3"
  },
  "language_info": {
   "codemirror_mode": {
    "name": "ipython",
    "version": 3
   },
   "file_extension": ".py",
   "mimetype": "text/x-python",
   "name": "python",
   "nbconvert_exporter": "python",
   "pygments_lexer": "ipython3",
   "version": "3.7.3"
  }
 },
 "nbformat": 4,
 "nbformat_minor": 2
}
