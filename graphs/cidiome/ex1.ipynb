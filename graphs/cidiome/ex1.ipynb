{
  "nbformat": 4,
  "nbformat_minor": 0,
  "metadata": {
    "colab": {
      "name": "aula-1-1.ipynb",
      "version": "0.3.2",
      "provenance": [],
      "collapsed_sections": []
    },
    "kernelspec": {
      "name": "python3",
      "display_name": "Python 3"
    }
  },
  "cells": [
    {
      "cell_type": "markdown",
      "metadata": {
        "id": "yrmbWUkQg4Io",
        "colab_type": "text"
      },
      "source": [
        "## Importando Módulos"
      ]
    },
    {
      "cell_type": "code",
      "metadata": {
        "id": "5iSkRI9fgHYg",
        "colab_type": "code",
        "colab": {}
      },
      "source": [
        "# módulo para manipulação de grafos\n",
        "import networkx as nx\n",
        "\n",
        "# módulo para visualização\n",
        "import matplotlib.pyplot as plt\n",
        "#import pylab as plt"
      ],
      "execution_count": 0,
      "outputs": []
    },
    {
      "cell_type": "markdown",
      "metadata": {
        "id": "7DUd9akphPy2",
        "colab_type": "text"
      },
      "source": [
        "## Criação de Grafo"
      ]
    },
    {
      "cell_type": "code",
      "metadata": {
        "id": "CQSTCqIAgnY1",
        "colab_type": "code",
        "colab": {}
      },
      "source": [
        "# cria um (objeto) grafo vazio\n",
        "G=nx.Graph()"
      ],
      "execution_count": 0,
      "outputs": []
    },
    {
      "cell_type": "code",
      "metadata": {
        "id": "bLqL6agbgtZg",
        "colab_type": "code",
        "colab": {}
      },
      "source": [
        "# adiciona nós e arestas\n",
        "G.add_edge(\"Node1\", \"Node2\")"
      ],
      "execution_count": 0,
      "outputs": []
    },
    {
      "cell_type": "code",
      "metadata": {
        "id": "EEDI-Lx0hZYu",
        "colab_type": "code",
        "colab": {}
      },
      "source": [
        "#adiciona nó\n",
        "G.add_node(\"Node3\")"
      ],
      "execution_count": 0,
      "outputs": []
    },
    {
      "cell_type": "markdown",
      "metadata": {
        "id": "gBL5NW77ir3n",
        "colab_type": "text"
      },
      "source": [
        "## Visualização"
      ]
    },
    {
      "cell_type": "code",
      "metadata": {
        "id": "aHaQq4LLheEq",
        "colab_type": "code",
        "outputId": "4c20adb7-4c99-4b7e-b1c4-66773c2b087e",
        "colab": {
          "base_uri": "https://localhost:8080/",
          "height": 319
        }
      },
      "source": [
        "# plota o grafo\n",
        "nx.draw(G, with_labels = True)\n",
        "plt.show()"
      ],
      "execution_count": 0,
      "outputs": [
        {
          "output_type": "display_data",
          "data": {
            "image/png": "[encoded data removed]",
            "text/plain": [
              "<Figure size 432x288 with 1 Axes>"
            ]
          },
          "metadata": {
            "tags": []
          }
        }
      ]
    },
    {
      "cell_type": "code",
      "metadata": {
        "id": "0IJMdyC1hgjV",
        "colab_type": "code",
        "colab": {}
      },
      "source": [
        "#caso queira salva uma imagem, use o comando abaixo\n",
        "#plt.savefig('grafo_aula-1-1.png')"
      ],
      "execution_count": 0,
      "outputs": []
    }
  ]
}